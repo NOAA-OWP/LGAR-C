{
 "cells": [
  {
   "cell_type": "code",
   "execution_count": null,
   "id": "424f2e61",
   "metadata": {},
   "outputs": [],
   "source": []
  },
  {
   "cell_type": "markdown",
   "id": "aed94620",
   "metadata": {},
   "source": [
    "### Compares LGARTO (C) real examples against Hydrus\n",
    "### Date: 23 October 2024 (last updated)\n",
    "### Peter La Follette"
   ]
  },
  {
   "cell_type": "code",
   "execution_count": 383,
   "id": "7cb19bfb",
   "metadata": {},
   "outputs": [],
   "source": [
    "synth_case = 4 #should be 1, 2, 3, or 4"
   ]
  },
  {
   "cell_type": "code",
   "execution_count": 384,
   "id": "b9051df0",
   "metadata": {},
   "outputs": [],
   "source": [
    "import numpy as np\n",
    "from matplotlib import pyplot as plt\n",
    "import sys, os\n",
    "import importlib as imp\n",
    "import copy\n",
    "import pandas as pd\n",
    "import datetime as dt\n",
    "import hydroeval\n",
    "\n",
    "from mpl_toolkits.axes_grid1.inset_locator import zoomed_inset_axes\n",
    "from mpl_toolkits.axes_grid1.inset_locator import mark_inset\n",
    "import matplotlib.dates as mdates\n",
    "\n",
    "import pickle"
   ]
  },
  {
   "cell_type": "code",
   "execution_count": 385,
   "id": "3a9f5ba8",
   "metadata": {},
   "outputs": [],
   "source": [
    "# C version\n",
    "sim_case = 'outputs/synthetic'+str(synth_case)+'_LGARTO/data_variables.csv' \n",
    "c_path_vars = sim_case\n",
    "\n",
    "outfile = \"c-hydrus-comparison_synth_\"+str(synth_case)+\"_LGARTO.png\"\n",
    "outfile_summpary_plot = \"c-hydrus-comparison_synth_\" + str(synth_case) + \"_LGARTO_summary.png\"\n",
    "\n",
    "save_outfile = True"
   ]
  },
  {
   "cell_type": "code",
   "execution_count": null,
   "id": "5b1e2e22",
   "metadata": {},
   "outputs": [],
   "source": []
  },
  {
   "cell_type": "code",
   "execution_count": 386,
   "id": "8f509cf8",
   "metadata": {},
   "outputs": [],
   "source": [
    "num_steps = 72*12\n",
    "    \n",
    "start = pd.Timestamp(\"2016-10-01 00:00:00\")\n",
    "end = pd.Timestamp(\"2016-10-04 00:00:00\")\n",
    "times = pd.date_range(start=start,end=end, periods=num_steps) #freq='min'\n",
    "times_bmi = pd.date_range(start=start,end=end, periods=num_steps)\n",
    "\n",
    "xfmt = mdates.DateFormatter('%Y/%m/%d')\n"
   ]
  },
  {
   "cell_type": "code",
   "execution_count": 387,
   "id": "519cf227",
   "metadata": {},
   "outputs": [
    {
     "data": {
      "text/html": [
       "<div>\n",
       "<style scoped>\n",
       "    .dataframe tbody tr th:only-of-type {\n",
       "        vertical-align: middle;\n",
       "    }\n",
       "\n",
       "    .dataframe tbody tr th {\n",
       "        vertical-align: top;\n",
       "    }\n",
       "\n",
       "    .dataframe thead th {\n",
       "        text-align: right;\n",
       "    }\n",
       "</style>\n",
       "<table border=\"1\" class=\"dataframe\">\n",
       "  <thead>\n",
       "    <tr style=\"text-align: right;\">\n",
       "      <th></th>\n",
       "      <th>Time</th>\n",
       "      <th>precipitation</th>\n",
       "      <th>potential_evapotranspiration</th>\n",
       "      <th>actual_evapotranspiration</th>\n",
       "      <th>surface_runoff</th>\n",
       "      <th>giuh_runoff</th>\n",
       "      <th>soil_storage</th>\n",
       "      <th>total_discharge</th>\n",
       "      <th>infiltration</th>\n",
       "      <th>percolation</th>\n",
       "      <th>groundwater_to_stream_recharge</th>\n",
       "      <th>mass_balance</th>\n",
       "    </tr>\n",
       "  </thead>\n",
       "  <tbody>\n",
       "    <tr>\n",
       "      <th>0</th>\n",
       "      <td>2016-10-01 00:00:00</td>\n",
       "      <td>0.0</td>\n",
       "      <td>0.0</td>\n",
       "      <td>0.0</td>\n",
       "      <td>0.0</td>\n",
       "      <td>0.0</td>\n",
       "      <td>0.38413</td>\n",
       "      <td>0.0</td>\n",
       "      <td>0.0</td>\n",
       "      <td>0.000000e+00</td>\n",
       "      <td>0.0</td>\n",
       "      <td>0.0</td>\n",
       "    </tr>\n",
       "    <tr>\n",
       "      <th>1</th>\n",
       "      <td>2016-10-01 00:05:00</td>\n",
       "      <td>0.0</td>\n",
       "      <td>0.0</td>\n",
       "      <td>0.0</td>\n",
       "      <td>0.0</td>\n",
       "      <td>0.0</td>\n",
       "      <td>0.38413</td>\n",
       "      <td>0.0</td>\n",
       "      <td>0.0</td>\n",
       "      <td>-2.847400e-11</td>\n",
       "      <td>0.0</td>\n",
       "      <td>0.0</td>\n",
       "    </tr>\n",
       "    <tr>\n",
       "      <th>2</th>\n",
       "      <td>2016-10-01 00:10:00</td>\n",
       "      <td>0.0</td>\n",
       "      <td>0.0</td>\n",
       "      <td>0.0</td>\n",
       "      <td>0.0</td>\n",
       "      <td>0.0</td>\n",
       "      <td>0.38413</td>\n",
       "      <td>0.0</td>\n",
       "      <td>0.0</td>\n",
       "      <td>-1.822600e-11</td>\n",
       "      <td>0.0</td>\n",
       "      <td>0.0</td>\n",
       "    </tr>\n",
       "    <tr>\n",
       "      <th>3</th>\n",
       "      <td>2016-10-01 00:15:00</td>\n",
       "      <td>0.0</td>\n",
       "      <td>0.0</td>\n",
       "      <td>0.0</td>\n",
       "      <td>0.0</td>\n",
       "      <td>0.0</td>\n",
       "      <td>0.38413</td>\n",
       "      <td>0.0</td>\n",
       "      <td>0.0</td>\n",
       "      <td>-1.321500e-11</td>\n",
       "      <td>0.0</td>\n",
       "      <td>0.0</td>\n",
       "    </tr>\n",
       "    <tr>\n",
       "      <th>4</th>\n",
       "      <td>2016-10-01 00:20:00</td>\n",
       "      <td>0.0</td>\n",
       "      <td>0.0</td>\n",
       "      <td>0.0</td>\n",
       "      <td>0.0</td>\n",
       "      <td>0.0</td>\n",
       "      <td>0.38413</td>\n",
       "      <td>0.0</td>\n",
       "      <td>0.0</td>\n",
       "      <td>-1.060500e-11</td>\n",
       "      <td>0.0</td>\n",
       "      <td>0.0</td>\n",
       "    </tr>\n",
       "  </tbody>\n",
       "</table>\n",
       "</div>"
      ],
      "text/plain": [
       "                  Time  precipitation  potential_evapotranspiration  \\\n",
       "0  2016-10-01 00:00:00            0.0                           0.0   \n",
       "1  2016-10-01 00:05:00            0.0                           0.0   \n",
       "2  2016-10-01 00:10:00            0.0                           0.0   \n",
       "3  2016-10-01 00:15:00            0.0                           0.0   \n",
       "4  2016-10-01 00:20:00            0.0                           0.0   \n",
       "\n",
       "   actual_evapotranspiration  surface_runoff  giuh_runoff  soil_storage  \\\n",
       "0                        0.0             0.0          0.0       0.38413   \n",
       "1                        0.0             0.0          0.0       0.38413   \n",
       "2                        0.0             0.0          0.0       0.38413   \n",
       "3                        0.0             0.0          0.0       0.38413   \n",
       "4                        0.0             0.0          0.0       0.38413   \n",
       "\n",
       "   total_discharge  infiltration   percolation  \\\n",
       "0              0.0           0.0  0.000000e+00   \n",
       "1              0.0           0.0 -2.847400e-11   \n",
       "2              0.0           0.0 -1.822600e-11   \n",
       "3              0.0           0.0 -1.321500e-11   \n",
       "4              0.0           0.0 -1.060500e-11   \n",
       "\n",
       "   groundwater_to_stream_recharge  mass_balance  \n",
       "0                             0.0           0.0  \n",
       "1                             0.0           0.0  \n",
       "2                             0.0           0.0  \n",
       "3                             0.0           0.0  \n",
       "4                             0.0           0.0  "
      ]
     },
     "execution_count": 387,
     "metadata": {},
     "output_type": "execute_result"
    }
   ],
   "source": [
    "data_c_vars = pd.read_csv(c_path_vars)\n",
    "data_c_vars = data_c_vars[0:num_steps]\n",
    "data_c_vars.head()"
   ]
  },
  {
   "cell_type": "code",
   "execution_count": 388,
   "id": "636fdb61",
   "metadata": {},
   "outputs": [],
   "source": [
    "m_to_mm = 1000\n"
   ]
  },
  {
   "cell_type": "markdown",
   "id": "6a1a09f9",
   "metadata": {},
   "source": [
    "### Read Hydrus data"
   ]
  },
  {
   "cell_type": "code",
   "execution_count": 389,
   "id": "ae2f77de",
   "metadata": {},
   "outputs": [],
   "source": [
    "\n",
    "hyd_path = 'HYDRUS_outputs/synth_'+str(synth_case)+'_LGARTO/T_Level_synth_'+str(synth_case)+'_LGARTO.txt'\n",
    "\n",
    "HYDRUS_output = pd.read_fwf(hyd_path,widths=[13,13,13,13,13,13,13,13,13,13,13,13,13,13,13,13,13,13,13,13,13,13])            \n",
    "HYDRUS_datetime_vec = []\n",
    "i=0\n",
    "prior_dt = dt.datetime.strptime(data_c_vars['Time'][0],'%Y-%m-%d %H:%M:%S') + dt.timedelta(hours=HYDRUS_output['Time'][i]-1)\n",
    "for i in range(0,len(HYDRUS_output['Time'])):\n",
    "    current_dt = dt.datetime.strptime(data_c_vars['Time'][0],'%Y-%m-%d %H:%M:%S') + dt.timedelta(hours=HYDRUS_output['Time'][i])\n",
    "    if (current_dt!=prior_dt):\n",
    "        HYDRUS_datetime_vec.append(current_dt)\n",
    "    else:\n",
    "        HYDRUS_output = HYDRUS_output.drop(i)\n",
    "    prior_dt = current_dt\n",
    "HYDRUS_output['HYDRUS_datetime_vec'] = HYDRUS_datetime_vec\n",
    "HYDRUS_output = HYDRUS_output.set_index('HYDRUS_datetime_vec')\n",
    "\n",
    "# HYDRUS_output = HYDRUS_output.resample('300s').pad()\n"
   ]
  },
  {
   "cell_type": "code",
   "execution_count": 390,
   "id": "93f5d82f",
   "metadata": {},
   "outputs": [
    {
     "data": {
      "text/plain": [
       "864"
      ]
     },
     "execution_count": 390,
     "metadata": {},
     "output_type": "execute_result"
    }
   ],
   "source": [
    "len(HYDRUS_output)\n",
    "\n",
    "# HYDRUS_output = HYDRUS_output[1:]"
   ]
  },
  {
   "cell_type": "code",
   "execution_count": null,
   "id": "88ec5072",
   "metadata": {},
   "outputs": [],
   "source": []
  },
  {
   "cell_type": "code",
   "execution_count": 391,
   "id": "ea611ca7",
   "metadata": {},
   "outputs": [
    {
     "data": {
      "text/plain": [
       "864"
      ]
     },
     "execution_count": 391,
     "metadata": {},
     "output_type": "execute_result"
    }
   ],
   "source": [
    "len(HYDRUS_output)"
   ]
  },
  {
   "cell_type": "code",
   "execution_count": null,
   "id": "7388195e",
   "metadata": {},
   "outputs": [],
   "source": []
  },
  {
   "cell_type": "code",
   "execution_count": null,
   "id": "669b41d4",
   "metadata": {},
   "outputs": [],
   "source": []
  },
  {
   "cell_type": "code",
   "execution_count": 392,
   "id": "9d3645b4",
   "metadata": {},
   "outputs": [
    {
     "data": {
      "text/html": [
       "<div>\n",
       "<style scoped>\n",
       "    .dataframe tbody tr th:only-of-type {\n",
       "        vertical-align: middle;\n",
       "    }\n",
       "\n",
       "    .dataframe tbody tr th {\n",
       "        vertical-align: top;\n",
       "    }\n",
       "\n",
       "    .dataframe thead th {\n",
       "        text-align: right;\n",
       "    }\n",
       "</style>\n",
       "<table border=\"1\" class=\"dataframe\">\n",
       "  <thead>\n",
       "    <tr style=\"text-align: right;\">\n",
       "      <th></th>\n",
       "      <th>Time</th>\n",
       "      <th>rTop</th>\n",
       "      <th>rRoot</th>\n",
       "      <th>vTop</th>\n",
       "      <th>vRoot</th>\n",
       "      <th>vBot</th>\n",
       "      <th>sum(rTop</th>\n",
       "      <th>)   sum(rRoot</th>\n",
       "      <th>)    sum(vTop</th>\n",
       "      <th>)   sum(vRoot</th>\n",
       "      <th>...</th>\n",
       "      <th>hRoot</th>\n",
       "      <th>hBot</th>\n",
       "      <th>RunOff</th>\n",
       "      <th>sum(RunOff</th>\n",
       "      <th>)     Volume</th>\n",
       "      <th>sum(Infil</th>\n",
       "      <th>)    sum(Evap</th>\n",
       "      <th>) TLevel Cum(</th>\n",
       "      <th>WTrans)  Snow</th>\n",
       "      <th>Layer</th>\n",
       "    </tr>\n",
       "    <tr>\n",
       "      <th>HYDRUS_datetime_vec</th>\n",
       "      <th></th>\n",
       "      <th></th>\n",
       "      <th></th>\n",
       "      <th></th>\n",
       "      <th></th>\n",
       "      <th></th>\n",
       "      <th></th>\n",
       "      <th></th>\n",
       "      <th></th>\n",
       "      <th></th>\n",
       "      <th></th>\n",
       "      <th></th>\n",
       "      <th></th>\n",
       "      <th></th>\n",
       "      <th></th>\n",
       "      <th></th>\n",
       "      <th></th>\n",
       "      <th></th>\n",
       "      <th></th>\n",
       "      <th></th>\n",
       "      <th></th>\n",
       "    </tr>\n",
       "  </thead>\n",
       "  <tbody>\n",
       "    <tr>\n",
       "      <th>2016-10-01 00:04:59.880</th>\n",
       "      <td>0.0833</td>\n",
       "      <td>0.0</td>\n",
       "      <td>0.0</td>\n",
       "      <td>0.0</td>\n",
       "      <td>0.0</td>\n",
       "      <td>0.0</td>\n",
       "      <td>0.0</td>\n",
       "      <td>0.0</td>\n",
       "      <td>0.0</td>\n",
       "      <td>0.0</td>\n",
       "      <td>...</td>\n",
       "      <td>-74.752</td>\n",
       "      <td>0.0</td>\n",
       "      <td>0.0</td>\n",
       "      <td>0.0</td>\n",
       "      <td>38.548</td>\n",
       "      <td>0.0</td>\n",
       "      <td>0.0</td>\n",
       "      <td>1  0.00</td>\n",
       "      <td>0.0</td>\n",
       "      <td>0.0</td>\n",
       "    </tr>\n",
       "    <tr>\n",
       "      <th>2016-10-01 00:10:00.120</th>\n",
       "      <td>0.1667</td>\n",
       "      <td>0.0</td>\n",
       "      <td>0.0</td>\n",
       "      <td>0.0</td>\n",
       "      <td>0.0</td>\n",
       "      <td>0.0</td>\n",
       "      <td>0.0</td>\n",
       "      <td>0.0</td>\n",
       "      <td>0.0</td>\n",
       "      <td>0.0</td>\n",
       "      <td>...</td>\n",
       "      <td>-74.752</td>\n",
       "      <td>0.0</td>\n",
       "      <td>0.0</td>\n",
       "      <td>0.0</td>\n",
       "      <td>38.548</td>\n",
       "      <td>0.0</td>\n",
       "      <td>0.0</td>\n",
       "      <td>2  0.00</td>\n",
       "      <td>0.0</td>\n",
       "      <td>0.0</td>\n",
       "    </tr>\n",
       "    <tr>\n",
       "      <th>2016-10-01 00:15:00.000</th>\n",
       "      <td>0.2500</td>\n",
       "      <td>0.0</td>\n",
       "      <td>0.0</td>\n",
       "      <td>0.0</td>\n",
       "      <td>0.0</td>\n",
       "      <td>0.0</td>\n",
       "      <td>0.0</td>\n",
       "      <td>0.0</td>\n",
       "      <td>0.0</td>\n",
       "      <td>0.0</td>\n",
       "      <td>...</td>\n",
       "      <td>-74.752</td>\n",
       "      <td>0.0</td>\n",
       "      <td>0.0</td>\n",
       "      <td>0.0</td>\n",
       "      <td>38.548</td>\n",
       "      <td>0.0</td>\n",
       "      <td>0.0</td>\n",
       "      <td>3  0.00</td>\n",
       "      <td>0.0</td>\n",
       "      <td>0.0</td>\n",
       "    </tr>\n",
       "    <tr>\n",
       "      <th>2016-10-01 00:19:59.880</th>\n",
       "      <td>0.3333</td>\n",
       "      <td>0.0</td>\n",
       "      <td>0.0</td>\n",
       "      <td>0.0</td>\n",
       "      <td>0.0</td>\n",
       "      <td>0.0</td>\n",
       "      <td>0.0</td>\n",
       "      <td>0.0</td>\n",
       "      <td>0.0</td>\n",
       "      <td>0.0</td>\n",
       "      <td>...</td>\n",
       "      <td>-74.752</td>\n",
       "      <td>0.0</td>\n",
       "      <td>0.0</td>\n",
       "      <td>0.0</td>\n",
       "      <td>38.548</td>\n",
       "      <td>0.0</td>\n",
       "      <td>0.0</td>\n",
       "      <td>4  0.00</td>\n",
       "      <td>0.0</td>\n",
       "      <td>0.0</td>\n",
       "    </tr>\n",
       "    <tr>\n",
       "      <th>2016-10-01 00:25:00.120</th>\n",
       "      <td>0.4167</td>\n",
       "      <td>0.0</td>\n",
       "      <td>0.0</td>\n",
       "      <td>0.0</td>\n",
       "      <td>0.0</td>\n",
       "      <td>0.0</td>\n",
       "      <td>0.0</td>\n",
       "      <td>0.0</td>\n",
       "      <td>0.0</td>\n",
       "      <td>0.0</td>\n",
       "      <td>...</td>\n",
       "      <td>-74.752</td>\n",
       "      <td>0.0</td>\n",
       "      <td>0.0</td>\n",
       "      <td>0.0</td>\n",
       "      <td>38.548</td>\n",
       "      <td>0.0</td>\n",
       "      <td>0.0</td>\n",
       "      <td>5  0.00</td>\n",
       "      <td>0.0</td>\n",
       "      <td>0.0</td>\n",
       "    </tr>\n",
       "  </tbody>\n",
       "</table>\n",
       "<p>5 rows × 22 columns</p>\n",
       "</div>"
      ],
      "text/plain": [
       "                           Time  rTop  rRoot  vTop  vRoot  vBot  sum(rTop  \\\n",
       "HYDRUS_datetime_vec                                                         \n",
       "2016-10-01 00:04:59.880  0.0833   0.0    0.0   0.0    0.0   0.0       0.0   \n",
       "2016-10-01 00:10:00.120  0.1667   0.0    0.0   0.0    0.0   0.0       0.0   \n",
       "2016-10-01 00:15:00.000  0.2500   0.0    0.0   0.0    0.0   0.0       0.0   \n",
       "2016-10-01 00:19:59.880  0.3333   0.0    0.0   0.0    0.0   0.0       0.0   \n",
       "2016-10-01 00:25:00.120  0.4167   0.0    0.0   0.0    0.0   0.0       0.0   \n",
       "\n",
       "                         )   sum(rRoot  )    sum(vTop  )   sum(vRoot  ...  \\\n",
       "HYDRUS_datetime_vec                                                   ...   \n",
       "2016-10-01 00:04:59.880            0.0            0.0            0.0  ...   \n",
       "2016-10-01 00:10:00.120            0.0            0.0            0.0  ...   \n",
       "2016-10-01 00:15:00.000            0.0            0.0            0.0  ...   \n",
       "2016-10-01 00:19:59.880            0.0            0.0            0.0  ...   \n",
       "2016-10-01 00:25:00.120            0.0            0.0            0.0  ...   \n",
       "\n",
       "                          hRoot  hBot  RunOff  sum(RunOff  )     Volume  \\\n",
       "HYDRUS_datetime_vec                                                       \n",
       "2016-10-01 00:04:59.880 -74.752   0.0     0.0         0.0        38.548   \n",
       "2016-10-01 00:10:00.120 -74.752   0.0     0.0         0.0        38.548   \n",
       "2016-10-01 00:15:00.000 -74.752   0.0     0.0         0.0        38.548   \n",
       "2016-10-01 00:19:59.880 -74.752   0.0     0.0         0.0        38.548   \n",
       "2016-10-01 00:25:00.120 -74.752   0.0     0.0         0.0        38.548   \n",
       "\n",
       "                         sum(Infil  )    sum(Evap  ) TLevel Cum(  \\\n",
       "HYDRUS_datetime_vec                                                \n",
       "2016-10-01 00:04:59.880        0.0            0.0        1  0.00   \n",
       "2016-10-01 00:10:00.120        0.0            0.0        2  0.00   \n",
       "2016-10-01 00:15:00.000        0.0            0.0        3  0.00   \n",
       "2016-10-01 00:19:59.880        0.0            0.0        4  0.00   \n",
       "2016-10-01 00:25:00.120        0.0            0.0        5  0.00   \n",
       "\n",
       "                         WTrans)  Snow Layer  \n",
       "HYDRUS_datetime_vec                           \n",
       "2016-10-01 00:04:59.880            0.0   0.0  \n",
       "2016-10-01 00:10:00.120            0.0   0.0  \n",
       "2016-10-01 00:15:00.000            0.0   0.0  \n",
       "2016-10-01 00:19:59.880            0.0   0.0  \n",
       "2016-10-01 00:25:00.120            0.0   0.0  \n",
       "\n",
       "[5 rows x 22 columns]"
      ]
     },
     "execution_count": 392,
     "metadata": {},
     "output_type": "execute_result"
    }
   ],
   "source": [
    "\n",
    "\n",
    "HYDRUS_output.head()"
   ]
  },
  {
   "cell_type": "code",
   "execution_count": null,
   "id": "8399e4ce",
   "metadata": {},
   "outputs": [],
   "source": []
  },
  {
   "cell_type": "code",
   "execution_count": null,
   "id": "c698afc1",
   "metadata": {},
   "outputs": [],
   "source": []
  },
  {
   "cell_type": "code",
   "execution_count": 393,
   "id": "6db43eeb",
   "metadata": {},
   "outputs": [
    {
     "name": "stdout",
     "output_type": "stream",
     "text": [
      "0      0.000000e+00\n",
      "1     -2.847400e-09\n",
      "2     -4.670000e-09\n",
      "3     -5.991500e-09\n",
      "4     -7.052000e-09\n",
      "           ...     \n",
      "859   -2.052955e-01\n",
      "860   -2.056368e-01\n",
      "861   -2.059586e-01\n",
      "862   -2.063016e-01\n",
      "863   -2.066481e-01\n",
      "Name: percolation, Length: 864, dtype: float64\n"
     ]
    },
    {
     "data": {
      "image/png": "[encoded data removed]",
      "text/plain": [
       "<Figure size 720x576 with 6 Axes>"
      ]
     },
     "metadata": {},
     "output_type": "display_data"
    }
   ],
   "source": [
    "# end_step = 300\n",
    "# times_bmi = times_bmi[0:end_step]\n",
    "# data_c_vars = data_c_vars [0:end_step]\n",
    "# vars_hydrus = data_c_vars [0:end_step]\n",
    "# HYDRUS_output = HYDRUS_output[0:end_step]\n",
    "\n",
    "\n",
    "\n",
    "\n",
    "\n",
    "#%matplotlib qt\n",
    "fig, axs = plt.subplots(3,2, figsize=(10,8), facecolor='w', edgecolor='k',gridspec_kw={'width_ratios':[1,1]})\n",
    "fig.subplots_adjust(hspace =.02, wspace=1.02)\n",
    "plt.tight_layout()\n",
    "axs = axs.ravel()\n",
    "\n",
    "vars_bmi = ['soil_storage', 'surface_runoff', 'infiltration', 'actual_evapotranspiration', 'mass_balance', 'percolation']\n",
    "vars_hydrus = [')     Volume', 'sum(RunOff', 'sum(Infil', ')   sum(vRoot', ')    sum(vBot']\n",
    "m_to_mm = 1000\n",
    "m_to_cm = 100\n",
    "timestep = 300/3600\n",
    "y_labels = ['Storage (cm)', 'Runoff (cm)', 'Infiltration (cm)', 'Actual ET (cm)', 'Mass balance (cm)', 'Recharge (cm)']\n",
    "\n",
    "for i in range(len(y_labels)):\n",
    "    if i == 0:\n",
    "        if i == 0:\n",
    "            axs[i].plot(times_bmi, data_c_vars[vars_bmi[i]]*m_to_cm,'b',linestyle='dashed',label='C (bmi)')\n",
    "            axs[i].plot(HYDRUS_output[vars_hydrus[i]],'k',linestyle='dashed',label='Hydrus',color='orange')\n",
    "        else:\n",
    "            hyd = []\n",
    "            for t,v1 in zip(HYDRUS_output['Time'], HYDRUS_output[vars_hydrus[0]]):\n",
    "                if t % 5.0 == 0:\n",
    "                    hyd.append(v1)\n",
    "            hyd_c_diff = []\n",
    "\n",
    "            for v2, v3 in zip(np.array(hyd),np.array(data_c_vars[vars_bmi[0]]*m_to_cm)[1:]):\n",
    "                hyd_c_diff.append(abs(v2-v3))\n",
    "\n",
    "            axs[i].legend()\n",
    "        \n",
    "    elif (i < len(vars_hydrus)-1):\n",
    "        if i == 1 or i == 2 or i ==3 : \n",
    "            \n",
    "            axs[i].plot(times_bmi, np.cumsum(data_c_vars[vars_bmi[i]]*m_to_cm),'blue',linestyle='dotted',label='C (bmi)')  \n",
    "            axs[i].plot(HYDRUS_output[vars_hydrus[i]],'k',linestyle='dashed',label='Hydrus',color='orange')\n",
    "        if i==4:\n",
    "            axs[i].plot(times_bmi, np.cumsum(data_c_vars[vars_bmi[i]]*m_to_cm),'blue',linestyle='dotted',label='C (bmi)')\n",
    "            axs[4].axis(ymin=-1,ymax=1)\n",
    "    elif (i==4):\n",
    "        axs[i].plot(times_bmi, np.cumsum(data_c_vars[vars_bmi[i]]*m_to_cm),'blue',linestyle='dotted',label='C (bmi)')\n",
    "        axs[5].plot(-1*HYDRUS_output[vars_hydrus[i]],'k',linestyle='dashed',label='Hydrus',color='orange')\n",
    "        print(np.cumsum(data_c_vars[vars_bmi[5]]*m_to_cm))\n",
    "    else:\n",
    "        axs[i].plot(times_bmi, np.cumsum(data_c_vars[vars_bmi[i]]*m_to_cm),'b',linestyle='dotted',label='C (bmi)')\n",
    "\n",
    "            \n",
    "    axs[i].set_ylabel(y_labels[i],fontsize=12)\n",
    "    \n",
    "    if i >2:\n",
    "        axs[i].set_xlabel('Time [m/d/h]',fontsize=12)\n",
    "    axs[i].tick_params(axis='x', labelsize=12,rotation=0)\n",
    "    axs[i].tick_params(axis='y', labelsize=12,rotation=0)\n",
    "    axs[i].xaxis.set_major_formatter(xfmt)\n",
    "    axs[i].xaxis.set_major_locator(mdates.MonthLocator(interval=4))\n",
    "    \n",
    "    axs[i].set_xlim(times_bmi[0], times_bmi[-1])\n",
    "axs[0].legend()\n",
    "plt.tight_layout()\n",
    "\n",
    "if (save_outfile):\n",
    "    plt.savefig(outfile,dpi=400)\n"
   ]
  },
  {
   "cell_type": "code",
   "execution_count": null,
   "id": "da54f973",
   "metadata": {},
   "outputs": [],
   "source": []
  },
  {
   "cell_type": "code",
   "execution_count": 394,
   "id": "a2c53bdb",
   "metadata": {},
   "outputs": [
    {
     "data": {
      "image/png": "[encoded data removed]",
      "text/plain": [
       "<Figure size 432x288 with 1 Axes>"
      ]
     },
     "metadata": {},
     "output_type": "display_data"
    }
   ],
   "source": [
    "import matplotlib as mpl\n",
    "import matplotlib.pyplot as plt\n",
    "import numpy as np\n",
    "\n",
    "mpl.rcParams['figure.facecolor'] = 'white'\n",
    "\n",
    "fig, ax = plt.subplots()\n",
    "\n",
    "ax.plot(times_bmi, np.cumsum(data_c_vars[vars_bmi[1]] * m_to_cm), label='C (bmi)', color='orange')\n",
    "ax.plot(HYDRUS_output[vars_hydrus[1]], linestyle='dashed', label='Hydrus', color='orange')\n",
    "\n",
    "ax.plot(times_bmi, np.cumsum(data_c_vars[vars_bmi[2]] * m_to_cm), label='C (bmi)', color='blue')\n",
    "ax.plot(HYDRUS_output[vars_hydrus[2]], linestyle='dashed', label='Hydrus', color='blue')\n",
    "\n",
    "ax.plot(times_bmi, np.cumsum(data_c_vars[vars_bmi[3]] * m_to_cm), label='C (bmi)', color='green')\n",
    "ax.plot(HYDRUS_output[vars_hydrus[3]], linestyle='dashed', label='Hydrus', color='green')\n",
    "\n",
    "ax.plot(times_bmi, np.cumsum(data_c_vars[vars_bmi[5]] * m_to_cm), label='C (bmi)', color='purple')\n",
    "ax.plot(-1 * HYDRUS_output[vars_hydrus[4]], linestyle='dashed', label='Hydrus', color='purple')\n",
    "\n",
    "llabels = [\n",
    "    'LGARTO runoff', 'HYDRUS runoff', 'LGARTO infiltration', 'HYDRUS infiltration',\n",
    "    'LGARTO AET', 'HYDRUS AET', 'LGARTO recharge', 'HYDRUS recharge'\n",
    "]\n",
    "\n",
    "#legend below the plot\n",
    "ax.legend(labels=llabels, bbox_to_anchor=(0.5, -0.2), loc='upper center', ncol=2)\n",
    "\n",
    "# plt.ylim(0,1.5)\n",
    "\n",
    "ax.set_ylabel(\"cumulative flux (cm)\", fontsize=16)\n",
    "ax.set_xlabel(\"date\", fontsize=16)\n",
    "\n",
    "# plt.vlines(times_bmi[128], 0, 12, colors =\"red\")\n",
    "# plt.xlim(times_bmi[100],times_bmi[150])\n",
    "\n",
    "fig.tight_layout(rect=[0, 0.05, 1, 1.03])\n",
    "\n",
    "if (save_outfile):\n",
    "    plt.savefig(outfile_summpary_plot, dpi=400, bbox_inches='tight')\n",
    "\n",
    "plt.show()"
   ]
  },
  {
   "cell_type": "code",
   "execution_count": null,
   "id": "e593e93c",
   "metadata": {},
   "outputs": [],
   "source": []
  },
  {
   "cell_type": "code",
   "execution_count": 395,
   "id": "8cc28950",
   "metadata": {},
   "outputs": [
    {
     "data": {
      "text/plain": [
       "0      0.0\n",
       "1      0.0\n",
       "2      0.0\n",
       "3      0.0\n",
       "4      0.0\n",
       "      ... \n",
       "859    0.0\n",
       "860    0.0\n",
       "861    0.0\n",
       "862    0.0\n",
       "863    0.0\n",
       "Name: surface_runoff, Length: 864, dtype: float64"
      ]
     },
     "execution_count": 395,
     "metadata": {},
     "output_type": "execute_result"
    }
   ],
   "source": [
    "runoff_LGARTO"
   ]
  },
  {
   "cell_type": "code",
   "execution_count": null,
   "id": "099113c8",
   "metadata": {},
   "outputs": [],
   "source": []
  },
  {
   "cell_type": "code",
   "execution_count": 396,
   "id": "c13ed589",
   "metadata": {},
   "outputs": [
    {
     "name": "stdout",
     "output_type": "stream",
     "text": [
      "KGE in runoff: \n",
      "nan\n",
      "NSE in runoff: \n",
      "nan\n",
      "percent bias in runoff: \n",
      "nan\n",
      "RMSE in runoff (cm/h): \n",
      "0.0\n",
      "cumulative runoff for LGARTO (cm): \n",
      "0.0\n",
      "cumulative runoff for HYDRUS (cm): \n",
      "0.0\n",
      "difference (cm): \n",
      "0.0\n"
     ]
    },
    {
     "name": "stderr",
     "output_type": "stream",
     "text": [
      "/opt/anaconda3/lib/python3.8/site-packages/hydroeval/objective_functions.py:80: RuntimeWarning: invalid value encountered in double_scalars\n",
      "  r = r_num / r_den\n",
      "/opt/anaconda3/lib/python3.8/site-packages/hydroeval/objective_functions.py:82: RuntimeWarning: invalid value encountered in double_scalars\n",
      "  alpha = np.std(simulations, axis=0) / np.std(evaluation, dtype=np.float64)\n",
      "/opt/anaconda3/lib/python3.8/site-packages/hydroeval/objective_functions.py:84: RuntimeWarning: invalid value encountered in double_scalars\n",
      "  beta = (np.sum(simulations, axis=0, dtype=np.float64)\n",
      "/opt/anaconda3/lib/python3.8/site-packages/hydroeval/objective_functions.py:39: RuntimeWarning: invalid value encountered in double_scalars\n",
      "  np.sum((evaluation - simulations) ** 2, axis=0, dtype=np.float64)\n",
      "/opt/anaconda3/lib/python3.8/site-packages/hydroeval/objective_functions.py:263: RuntimeWarning: invalid value encountered in double_scalars\n",
      "  pbias_ = (100 * np.sum(evaluation - simulations, axis=0, dtype=np.float64)\n"
     ]
    }
   ],
   "source": [
    "#since runoff is 0, KGE and NSE will be nan\n",
    "\n",
    "runoff_LGARTO = data_c_vars[vars_bmi[1]]*m_to_cm\n",
    "\n",
    "# runoff_HYDRUS = HYDRUS_output['RunOff']\n",
    "\n",
    "runoff_HYDRUS = [0.0]\n",
    "for i in range(1,len(HYDRUS_output)):\n",
    "#     if i!=1:\n",
    "    runoff_HYDRUS.append(HYDRUS_output['sum(RunOff'][i] - HYDRUS_output['sum(RunOff'][i-1])\n",
    "\n",
    "print(\"KGE in runoff: \")\n",
    "print(hydroeval.kge(np.array(runoff_LGARTO), np.array(runoff_HYDRUS))[0][0])\n",
    "\n",
    "print(\"NSE in runoff: \")\n",
    "print(hydroeval.nse(np.array(runoff_LGARTO), np.array(runoff_HYDRUS)))\n",
    "\n",
    "print(\"percent bias in runoff: \")\n",
    "print(hydroeval.pbias(np.array(runoff_LGARTO), np.array(runoff_HYDRUS)))\n",
    "\n",
    "print(\"RMSE in runoff (cm/h): \")\n",
    "print(hydroeval.rmse(np.array(runoff_LGARTO), np.array(runoff_HYDRUS)))\n",
    "\n",
    "print(\"cumulative runoff for LGARTO (cm): \")\n",
    "print(np.sum(runoff_LGARTO))\n",
    "\n",
    "print(\"cumulative runoff for HYDRUS (cm): \")\n",
    "print(np.sum(runoff_HYDRUS))\n",
    "\n",
    "print(\"difference (cm): \")\n",
    "print(np.sum(runoff_HYDRUS) - np.sum(runoff_LGARTO))"
   ]
  },
  {
   "cell_type": "code",
   "execution_count": 397,
   "id": "efd6fcf2",
   "metadata": {},
   "outputs": [
    {
     "data": {
      "text/plain": [
       "True"
      ]
     },
     "execution_count": 397,
     "metadata": {},
     "output_type": "execute_result"
    }
   ],
   "source": [
    "abs(np.sum(runoff_HYDRUS) - HYDRUS_output['sum(RunOff'][-1]) < 0.01"
   ]
  },
  {
   "cell_type": "code",
   "execution_count": null,
   "id": "5b46dfcb",
   "metadata": {},
   "outputs": [],
   "source": []
  },
  {
   "cell_type": "code",
   "execution_count": null,
   "id": "764b947e",
   "metadata": {},
   "outputs": [],
   "source": []
  },
  {
   "cell_type": "code",
   "execution_count": 398,
   "id": "31dda3de",
   "metadata": {},
   "outputs": [
    {
     "name": "stdout",
     "output_type": "stream",
     "text": [
      "KGE in infiltration: \n",
      "nan\n",
      "NSE in infiltration: \n",
      "nan\n",
      "percent bias in infiltration: \n",
      "nan\n",
      "RMSE in infiltration (cm/h): \n",
      "0.0\n",
      "cumulative infiltration for LGARTO (cm): \n",
      "0.0\n",
      "cumulative infiltration for HYDRUS (cm): \n",
      "0.0\n",
      "difference (cm): \n",
      "0.0\n"
     ]
    }
   ],
   "source": [
    "#since infil is 0 (this test just demonstrates the capacity for AET to cause \n",
    "#negative recharge), KGE and NSE will be nan\n",
    "\n",
    "\n",
    "infil_LGARTO = data_c_vars[vars_bmi[2]]*m_to_cm\n",
    "infil_HYDRUS = HYDRUS_output['sum(Infil']#[1:]\n",
    "\n",
    "infil_HYDRUS = np.array(infil_HYDRUS)\n",
    "infil_HYDRUS_cumulative = HYDRUS_output['sum(Infil']#[1:]\n",
    "\n",
    "i=0\n",
    "for item in infil_HYDRUS:\n",
    "#     print(item)\n",
    "    if (i==0):\n",
    "        item = item\n",
    "    else:\n",
    "        item = item - infil_HYDRUS_cumulative[i-1]\n",
    "    infil_HYDRUS[i] = item\n",
    "    i = i + 1\n",
    "    \n",
    "        \n",
    "print(\"KGE in infiltration: \")\n",
    "print(hydroeval.kge(np.array(infil_LGARTO), np.array(infil_HYDRUS))[0][0])\n",
    "\n",
    "print(\"NSE in infiltration: \")\n",
    "print(hydroeval.nse(np.array(infil_LGARTO), np.array(infil_HYDRUS)))\n",
    "\n",
    "print(\"percent bias in infiltration: \")\n",
    "print(hydroeval.pbias(np.array(infil_LGARTO), np.array(infil_HYDRUS)))\n",
    "\n",
    "print(\"RMSE in infiltration (cm/h): \")\n",
    "print(hydroeval.rmse(np.array(infil_LGARTO), np.array(infil_HYDRUS)))\n",
    "\n",
    "print(\"cumulative infiltration for LGARTO (cm): \")\n",
    "print(np.sum(infil_LGARTO))\n",
    "\n",
    "print(\"cumulative infiltration for HYDRUS (cm): \")\n",
    "print(np.sum(infil_HYDRUS))\n",
    "\n",
    "print(\"difference (cm): \")\n",
    "print(np.sum(infil_HYDRUS) - np.sum(infil_LGARTO))"
   ]
  },
  {
   "cell_type": "code",
   "execution_count": 399,
   "id": "4c9d77f7",
   "metadata": {},
   "outputs": [
    {
     "data": {
      "text/plain": [
       "True"
      ]
     },
     "execution_count": 399,
     "metadata": {},
     "output_type": "execute_result"
    }
   ],
   "source": [
    "abs(np.sum(infil_HYDRUS) - HYDRUS_output['sum(Infil'][-1]) < 0.01"
   ]
  },
  {
   "cell_type": "code",
   "execution_count": null,
   "id": "fd68af68",
   "metadata": {},
   "outputs": [],
   "source": []
  },
  {
   "cell_type": "code",
   "execution_count": 400,
   "id": "db4c936f",
   "metadata": {},
   "outputs": [
    {
     "name": "stdout",
     "output_type": "stream",
     "text": [
      "KGE in AET: \n",
      "0.9999791752688251\n",
      "NSE in AET: \n",
      "0.9999691754946097\n",
      "percent bias in AET: \n",
      "-0.0002806173865969472\n",
      "RMSE in AET (cm/h): \n",
      "2.4545708945042126e-05\n",
      "cumulative AET for LGARTO (cm): \n",
      "3.1438088220494\n",
      "cumulative AET for HYDRUS (cm): \n",
      "3.1438\n",
      "difference (cm): \n",
      "-8.822049399892506e-06\n"
     ]
    }
   ],
   "source": [
    "\n",
    "AET_LGARTO = data_c_vars[vars_bmi[3]]*m_to_cm\n",
    "# AET_HYDRUS = HYDRUS_output['vRoot']\n",
    "\n",
    "AET_HYDRUS = [0.0]\n",
    "for i in range(1,len(HYDRUS_output)):\n",
    "#     if i!=1:\n",
    "    AET_HYDRUS.append(HYDRUS_output[')   sum(vRoot'][i] - HYDRUS_output[')   sum(vRoot'][i-1])\n",
    "\n",
    "print(\"KGE in AET: \")\n",
    "print(hydroeval.kge(np.array(AET_LGARTO), np.array(AET_HYDRUS))[0][0])\n",
    "\n",
    "print(\"NSE in AET: \")\n",
    "print(hydroeval.nse(np.array(AET_LGARTO), np.array(AET_HYDRUS)))\n",
    "\n",
    "print(\"percent bias in AET: \")\n",
    "print(hydroeval.pbias(np.array(AET_LGARTO), np.array(AET_HYDRUS)))\n",
    "\n",
    "print(\"RMSE in AET (cm/h): \")\n",
    "print(hydroeval.rmse(np.array(AET_LGARTO), np.array(AET_HYDRUS)))\n",
    "\n",
    "print(\"cumulative AET for LGARTO (cm): \")\n",
    "print(np.sum(AET_LGARTO))\n",
    "\n",
    "print(\"cumulative AET for HYDRUS (cm): \")\n",
    "print(np.sum(AET_HYDRUS))\n",
    "\n",
    "print(\"difference (cm): \")\n",
    "print(np.sum(AET_HYDRUS) - np.sum(AET_LGARTO))"
   ]
  },
  {
   "cell_type": "code",
   "execution_count": null,
   "id": "7d2e826a",
   "metadata": {},
   "outputs": [],
   "source": []
  },
  {
   "cell_type": "code",
   "execution_count": 401,
   "id": "98fd0510",
   "metadata": {},
   "outputs": [
    {
     "data": {
      "text/plain": [
       "True"
      ]
     },
     "execution_count": 401,
     "metadata": {},
     "output_type": "execute_result"
    }
   ],
   "source": [
    "abs(np.sum(AET_HYDRUS) - HYDRUS_output[')   sum(vRoot'][-1]) < 0.01"
   ]
  },
  {
   "cell_type": "code",
   "execution_count": null,
   "id": "85f539f6",
   "metadata": {},
   "outputs": [],
   "source": []
  },
  {
   "cell_type": "code",
   "execution_count": 402,
   "id": "b3a771c1",
   "metadata": {},
   "outputs": [
    {
     "name": "stdout",
     "output_type": "stream",
     "text": [
      "KGE in recharge: \n",
      "0.4775597183270893\n",
      "NSE in recharge: \n",
      "0.12637409130320876\n",
      "percent bias in recharge: \n",
      "25.262887732368903\n",
      "RMSE in recharge (cm/h): \n",
      "0.00021713955180551196\n",
      "cumulative recharge for LGARTO (cm): \n",
      "-0.20664811542\n",
      "cumulative recharge for HYDRUS (cm): \n",
      "-0.2765\n",
      "difference (cm): \n",
      "-0.06985188458000002\n"
     ]
    }
   ],
   "source": [
    "rch_LGARTO = data_c_vars[vars_bmi[5]]*m_to_cm\n",
    "# rch_HYDRUS = -1*HYDRUS_output['vBot']\n",
    "\n",
    "rch_HYDRUS = [0.0]\n",
    "for i in range(1,len(HYDRUS_output)):\n",
    "#     if i!=1:\n",
    "    rch_HYDRUS.append(-1*(HYDRUS_output[')    sum(vBot'][i] - HYDRUS_output[')    sum(vBot'][i-1]))\n",
    "\n",
    "print(\"KGE in recharge: \")\n",
    "print(hydroeval.kge(np.array(rch_LGARTO), np.array(rch_HYDRUS))[0][0])\n",
    "\n",
    "print(\"NSE in recharge: \")\n",
    "print(hydroeval.nse(np.array(rch_LGARTO), np.array(rch_HYDRUS)))\n",
    "\n",
    "print(\"percent bias in recharge: \")\n",
    "print(hydroeval.pbias(np.array(rch_LGARTO), np.array(rch_HYDRUS)))\n",
    "\n",
    "print(\"RMSE in recharge (cm/h): \")\n",
    "print(hydroeval.rmse(np.array(rch_LGARTO), np.array(rch_HYDRUS)))\n",
    "\n",
    "print(\"cumulative recharge for LGARTO (cm): \")\n",
    "print(np.sum(rch_LGARTO))\n",
    "\n",
    "print(\"cumulative recharge for HYDRUS (cm): \")\n",
    "print(np.sum(rch_HYDRUS))\n",
    "\n",
    "print(\"difference (cm): \")\n",
    "print(np.sum(rch_HYDRUS) - np.sum(rch_LGARTO))\n"
   ]
  },
  {
   "cell_type": "code",
   "execution_count": 403,
   "id": "1abbd6a7",
   "metadata": {},
   "outputs": [
    {
     "data": {
      "text/plain": [
       "[<matplotlib.lines.Line2D at 0x7fe506f06040>]"
      ]
     },
     "execution_count": 403,
     "metadata": {},
     "output_type": "execute_result"
    },
    {
     "data": {
      "image/png": "[encoded data removed]",
      "text/plain": [
       "<Figure size 432x288 with 1 Axes>"
      ]
     },
     "metadata": {},
     "output_type": "display_data"
    }
   ],
   "source": [
    "plt.plot(rch_LGARTO)\n",
    "plt.plot(rch_HYDRUS)"
   ]
  },
  {
   "cell_type": "code",
   "execution_count": null,
   "id": "9784c7d1",
   "metadata": {},
   "outputs": [],
   "source": []
  },
  {
   "cell_type": "code",
   "execution_count": 404,
   "id": "864d54c7",
   "metadata": {},
   "outputs": [
    {
     "data": {
      "text/plain": [
       "True"
      ]
     },
     "execution_count": 404,
     "metadata": {},
     "output_type": "execute_result"
    }
   ],
   "source": [
    "abs(np.sum(rch_HYDRUS) - -1*HYDRUS_output[')    sum(vBot'][-1]) < 0.001"
   ]
  },
  {
   "cell_type": "code",
   "execution_count": 405,
   "id": "ca2c872b",
   "metadata": {},
   "outputs": [
    {
     "name": "stdout",
     "output_type": "stream",
     "text": [
      "KGE in cumulative recharge: \n",
      "0.7134556492320961\n",
      "NSE in cumulative recharge: \n",
      "0.9031807920036365\n",
      "percent bias in cumulative recharge: \n",
      "8.799492056372284\n",
      "RMSE in cumulative recharge (cm): \n",
      "0.026390261695402616\n"
     ]
    }
   ],
   "source": [
    "rch_HYDRUS=np.array(rch_HYDRUS)\n",
    "rch_LGARTO=np.array(rch_LGARTO)\n",
    "\n",
    "rch_HYDRUS_ind=np.array(rch_HYDRUS)\n",
    "rch_LGARTO_ind=np.array(rch_LGARTO)\n",
    "\n",
    "i = 0\n",
    "for _ in rch_HYDRUS:\n",
    "    if i>0:\n",
    "        rch_HYDRUS[i] = np.sum(rch_HYDRUS_ind[0:i])\n",
    "        rch_LGARTO[i] = np.sum(rch_LGARTO_ind[0:i])\n",
    "    i=i+1\n",
    "\n",
    "# plt.plot(rch_LGARTO)\n",
    "# plt.plot(rch_HYDRUS)\n",
    "\n",
    "print(\"KGE in cumulative recharge: \")\n",
    "print(hydroeval.kge(np.array(rch_LGARTO), np.array(rch_HYDRUS))[0][0])\n",
    "\n",
    "print(\"NSE in cumulative recharge: \")\n",
    "print(hydroeval.nse(np.array(rch_LGARTO), np.array(rch_HYDRUS)))\n",
    "\n",
    "print(\"percent bias in cumulative recharge: \")\n",
    "print(hydroeval.pbias(np.array(rch_LGARTO), np.array(rch_HYDRUS)))\n",
    "\n",
    "print(\"RMSE in cumulative recharge (cm): \")\n",
    "print(hydroeval.rmse(np.array(rch_LGARTO), np.array(rch_HYDRUS)))"
   ]
  },
  {
   "cell_type": "code",
   "execution_count": null,
   "id": "f54823ae",
   "metadata": {},
   "outputs": [],
   "source": []
  },
  {
   "cell_type": "code",
   "execution_count": null,
   "id": "ba6273a8",
   "metadata": {},
   "outputs": [],
   "source": []
  },
  {
   "cell_type": "code",
   "execution_count": null,
   "id": "770fac93",
   "metadata": {},
   "outputs": [],
   "source": []
  },
  {
   "cell_type": "code",
   "execution_count": null,
   "id": "98c5f1fd",
   "metadata": {},
   "outputs": [],
   "source": []
  },
  {
   "cell_type": "code",
   "execution_count": null,
   "id": "d859621a",
   "metadata": {},
   "outputs": [],
   "source": []
  },
  {
   "cell_type": "code",
   "execution_count": null,
   "id": "be805c8e",
   "metadata": {},
   "outputs": [],
   "source": []
  },
  {
   "cell_type": "code",
   "execution_count": null,
   "id": "573801e5",
   "metadata": {},
   "outputs": [],
   "source": []
  },
  {
   "cell_type": "code",
   "execution_count": null,
   "id": "8ab89295",
   "metadata": {},
   "outputs": [],
   "source": []
  }
 ],
 "metadata": {
  "kernelspec": {
   "display_name": "Python 3",
   "language": "python",
   "name": "python3"
  },
  "language_info": {
   "codemirror_mode": {
    "name": "ipython",
    "version": 3
   },
   "file_extension": ".py",
   "mimetype": "text/x-python",
   "name": "python",
   "nbconvert_exporter": "python",
   "pygments_lexer": "ipython3",
   "version": "3.8.8"
  }
 },
 "nbformat": 4,
 "nbformat_minor": 5
}
