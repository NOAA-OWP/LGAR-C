{
 "cells": [
  {
   "cell_type": "code",
   "execution_count": null,
   "id": "302b4e77",
   "metadata": {},
   "outputs": [],
   "source": [
    "#this notebook establishes parameter sets that will be used by LASAM"
   ]
  },
  {
   "cell_type": "code",
   "execution_count": null,
   "id": "f89ff77e",
   "metadata": {},
   "outputs": [],
   "source": [
    "#!pip install smt"
   ]
  },
  {
   "cell_type": "code",
   "execution_count": null,
   "id": "8013f23e",
   "metadata": {},
   "outputs": [],
   "source": [
    "import numpy as np\n",
    "import random \n",
    "from datetime import datetime #used to record total runtime\n",
    "# import os #needed to run system commands from python\n",
    "import subprocess #needed to run system commands from python, more flexible and safer than os\n",
    "from smt.sampling_methods import LHS #Latin hypercube sampling\n",
    "import matplotlib.pyplot as plt\n",
    "import os "
   ]
  },
  {
   "cell_type": "code",
   "execution_count": null,
   "id": "a8156769",
   "metadata": {},
   "outputs": [],
   "source": [
    "theta_r_range = [0.01 ,0.15]\n",
    "theta_e_range = [0.3, 0.8]\n",
    "log_alpha_range =   [-3.0, -0.52] #corresponding to 0.001 and 0.3, via log_10\n",
    "n_range =       [1.01, 3] #I recommend n to be no smaller than 1.01. Weird things happen with the water retention curve below that  \n",
    "log_Ks_range =      [-3, 2] #corresponding to 0.001 and 100, via log_10\n",
    "initial_psi_range = [10, 3000]\n",
    "with_ponded_head = [-1, 1] #later, ponded head will be set to zero or nonzero based on this\n",
    "field_capacity_psi_range = [10.3, 516.5]\n"
   ]
  },
  {
   "cell_type": "code",
   "execution_count": null,
   "id": "2f274f50",
   "metadata": {},
   "outputs": [],
   "source": [
    "#establishes limits for Latin hypercube.\n",
    "\n",
    "xlimits = np.array([[theta_r_range[0], theta_r_range[1]],\n",
    "                    [theta_e_range[0], theta_e_range[1]],\n",
    "                    [log_alpha_range[0], log_alpha_range[1]],\n",
    "                    [n_range[0], n_range[1]],\n",
    "                    [log_Ks_range[0], log_Ks_range[1]],\n",
    "                    [initial_psi_range[0], initial_psi_range[1]],\n",
    "                    [with_ponded_head[0], with_ponded_head[1]],\n",
    "                    [field_capacity_psi_range[0], field_capacity_psi_range[1]],\n",
    "                    ])\n"
   ]
  },
  {
   "cell_type": "code",
   "execution_count": null,
   "id": "a5226748",
   "metadata": {},
   "outputs": [],
   "source": [
    "sampling = LHS(xlimits=xlimits,random_state=2+10) #random_state is for reproducability\n",
    "\n",
    "#this creates the Latin hypercube containing all parameter sets, where num is the number of parameter sets desired.\n",
    "num = 10000\n",
    "x = sampling(num)"
   ]
  },
  {
   "cell_type": "code",
   "execution_count": null,
   "id": "0b724c1f",
   "metadata": {},
   "outputs": [],
   "source": [
    "x"
   ]
  },
  {
   "cell_type": "code",
   "execution_count": null,
   "id": "8835daa4",
   "metadata": {},
   "outputs": [],
   "source": [
    "# for h in range(num):\n",
    "#     theta_r = x[h,0]\n",
    "#     theta_e = x[h,1]\n",
    "#     alpha = x[h,2]\n",
    "#     n = x[h,3]\n",
    "#     Ks = x[h,4]\n",
    "#     initial_psi = x[h,5]\n",
    "#     print(Ks)\n",
    "#     print(n)\n",
    "#     print(' ')"
   ]
  },
  {
   "cell_type": "code",
   "execution_count": null,
   "id": "f8138134",
   "metadata": {},
   "outputs": [],
   "source": []
  },
  {
   "cell_type": "code",
   "execution_count": null,
   "id": "cc53ff48",
   "metadata": {},
   "outputs": [],
   "source": [
    "os.chdir('../../')"
   ]
  },
  {
   "cell_type": "code",
   "execution_count": null,
   "id": "b6959bf8",
   "metadata": {},
   "outputs": [],
   "source": [
    "#testing single case where the parameters file is edited\n",
    "with open('data/vG_default_params.dat', 'r') as file:\n",
    "    # read a list of lines into data\n",
    "    parameters_file_text = file.readlines()\n",
    "    file.close()\n",
    "\n",
    "print(parameters_file_text)\n"
   ]
  },
  {
   "cell_type": "code",
   "execution_count": null,
   "id": "f8d11763",
   "metadata": {},
   "outputs": [],
   "source": [
    "parameters_file_text[0]"
   ]
  },
  {
   "cell_type": "code",
   "execution_count": null,
   "id": "f740824a",
   "metadata": {},
   "outputs": [],
   "source": [
    "parameters_file_text[1]"
   ]
  },
  {
   "cell_type": "code",
   "execution_count": null,
   "id": "1eec4b1b",
   "metadata": {},
   "outputs": [],
   "source": [
    "parameter_set = random.randint(1,10000)\n",
    "parameter_set = 0"
   ]
  },
  {
   "cell_type": "code",
   "execution_count": null,
   "id": "f75f58fc",
   "metadata": {},
   "outputs": [],
   "source": [
    "# x[parameter_set,2] = 10**x[parameter_set,2]\n",
    "# x[parameter_set,4] = 10**x[parameter_set,4]\n",
    "# parameters_file_text[1] = '\"Clay\"\\t                ' + str(x[parameter_set,0]) + '\\t' + str(x[parameter_set,1]) + '\\t' + str(x[parameter_set,2]) + '\\t' + str(x[parameter_set,3]) + '\\t' + str(x[parameter_set,4]) + '\\n'      "
   ]
  },
  {
   "cell_type": "code",
   "execution_count": null,
   "id": "cda853a8",
   "metadata": {},
   "outputs": [],
   "source": []
  },
  {
   "cell_type": "code",
   "execution_count": null,
   "id": "2f679727",
   "metadata": {},
   "outputs": [],
   "source": [
    "parameters_file_text[1]"
   ]
  },
  {
   "cell_type": "code",
   "execution_count": null,
   "id": "a5ce13d4",
   "metadata": {},
   "outputs": [],
   "source": [
    "with open('data/vG_default_params_LHS.dat', 'w') as file:\n",
    "    file.writelines( parameters_file_text )\n",
    "    file.close()"
   ]
  },
  {
   "cell_type": "code",
   "execution_count": null,
   "id": "5dc55b27",
   "metadata": {},
   "outputs": [],
   "source": []
  },
  {
   "cell_type": "code",
   "execution_count": null,
   "id": "d984ef4d",
   "metadata": {},
   "outputs": [],
   "source": [
    "# with open('configs/config_lasam_LHS.txt', 'r') as file:\n",
    "# # read a list of lines into data\n",
    "#     config_file_text = file.readlines()\n",
    "#     file.close()"
   ]
  },
  {
   "cell_type": "code",
   "execution_count": null,
   "id": "3b28aaca",
   "metadata": {},
   "outputs": [],
   "source": [
    "# config_file_text"
   ]
  },
  {
   "cell_type": "code",
   "execution_count": null,
   "id": "0ed46c3e",
   "metadata": {},
   "outputs": [],
   "source": [
    "# config_file_text[4]"
   ]
  },
  {
   "cell_type": "code",
   "execution_count": null,
   "id": "45130e61",
   "metadata": {},
   "outputs": [],
   "source": [
    "# config_file_text[4] = 'initial_psi=' + str(x[parameter_set,5]) + '[cm]\\n'"
   ]
  },
  {
   "cell_type": "code",
   "execution_count": null,
   "id": "eac16e7f",
   "metadata": {},
   "outputs": [],
   "source": [
    "# with open('configs/config_lasam_LHS.txt', 'w') as file:\n",
    "#     file.writelines( config_file_text )\n",
    "#     file.close()"
   ]
  },
  {
   "cell_type": "code",
   "execution_count": null,
   "id": "b3817a83",
   "metadata": {},
   "outputs": [],
   "source": []
  },
  {
   "cell_type": "code",
   "execution_count": null,
   "id": "b241d74d",
   "metadata": {},
   "outputs": [],
   "source": [
    "# result = !./build/lasam_standalone configs/config_lasam_LHS.txt"
   ]
  },
  {
   "cell_type": "code",
   "execution_count": null,
   "id": "84fdeb61",
   "metadata": {},
   "outputs": [],
   "source": [
    "# result"
   ]
  },
  {
   "cell_type": "code",
   "execution_count": null,
   "id": "13754593",
   "metadata": {},
   "outputs": [],
   "source": [
    "# result[2] == '-------------------- Simulation Summary ----------------- '"
   ]
  },
  {
   "cell_type": "code",
   "execution_count": null,
   "id": "2eab80d6",
   "metadata": {},
   "outputs": [],
   "source": [
    "# print(result)"
   ]
  },
  {
   "cell_type": "code",
   "execution_count": null,
   "id": "4cca726c",
   "metadata": {},
   "outputs": [],
   "source": [
    "# for row in result:\n",
    "#     print(row)"
   ]
  },
  {
   "cell_type": "code",
   "execution_count": null,
   "id": "89af9ee2",
   "metadata": {},
   "outputs": [],
   "source": []
  },
  {
   "cell_type": "code",
   "execution_count": null,
   "id": "34710003",
   "metadata": {},
   "outputs": [],
   "source": [
    "num_runs = 0\n",
    "num_successful_runs = 0\n",
    "unsuccessful_parameter_sets = []\n",
    "#error types are: mass balance, timeout due to infinite loop, and nonzero ponded head when its max is set to 0.\n",
    "unsuccessful_parameter_sets_ponded_water = []\n",
    "unsuccessful_parameter_sets_timeout = []\n",
    "unsuccessful_parameter_sets_mass_bal = []\n",
    "runtime_vec = []\n",
    "\n",
    "begin_time = datetime.now() #used to record total runtime\n",
    "\n",
    "# test_set = [9610]\n",
    "# for parameter_set in test_set:\n",
    "for parameter_set in range(num):\n",
    "    x[parameter_set,2] = 10**x[parameter_set,2]\n",
    "    x[parameter_set,4] = 10**x[parameter_set,4]\n",
    "    print(\"parameter set:\")\n",
    "    print(parameter_set)\n",
    "#     print(\"actual alpha:\")\n",
    "#     print(x[parameter_set,2])\n",
    "#     print(\"actual Ks:\")\n",
    "#     print(x[parameter_set,4])\n",
    "    with open('data/vG_default_params.dat', 'r') as file:\n",
    "    # read a list of lines into data\n",
    "        parameters_file_text = file.readlines()\n",
    "        file.close()\n",
    "    parameters_file_text[1] = '\"Clay\"\\t                ' + str(x[parameter_set,0]) + '\\t' + str(x[parameter_set,1]) + '\\t' + str(x[parameter_set,2]) + '\\t' + str(x[parameter_set,3]) + '\\t' + str(x[parameter_set,4]) + '\\n'      \n",
    "    with open('data/vG_default_params_LHS_arid.dat', 'w') as file:\n",
    "        file.writelines( parameters_file_text )\n",
    "        file.close()\n",
    "        \n",
    "    with open('configs/config_lasam_LHS_Phillipsburg.txt', 'r') as file:\n",
    "    # read a list of lines into data\n",
    "        config_file_text = file.readlines()\n",
    "        file.close()\n",
    "    config_file_text[4] = 'initial_psi=' + str(x[parameter_set,5]) + '[cm]\\n'\n",
    "    \n",
    "    if (x[parameter_set,6]<0):\n",
    "        config_file_text[8] = 'ponded_depth_max=0[cm]\\n'\n",
    "    else:\n",
    "        config_file_text[8] = 'ponded_depth_max=2[cm]\\n'\n",
    "    if (x[parameter_set,6]>0.5):\n",
    "        config_file_text[8] = 'ponded_depth_max=5[cm]\\n'\n",
    "        \n",
    "    config_file_text[13] = 'field_capacity_psi=' + str(x[parameter_set,7]) + '[cm]\\n'\n",
    "        \n",
    "    with open('configs/config_lasam_LHS_Phillipsburg.txt', 'w') as file:\n",
    "        file.writelines( config_file_text )\n",
    "        file.close()\n",
    "        \n",
    "    print(\"running LASAM ...\")\n",
    "#     result = !./build/lasam_standalone configs/config_lasam_LHS_Phillipsburg.txt\n",
    "#     result = !./build/lasam_standalone configs/config_lasam_LHS_Koptis_Farms.txt \n",
    "    start_time_loc = datetime.now() #used to record local runtime\n",
    "    result = !./build/lasam_standalone configs/config_lasam_LHS_Phillipsburg.txt \n",
    "    end_time_loc = datetime.now() #used to record local runtime\n",
    "    runtime_loc = end_time_loc - start_time_loc\n",
    "    runtime_vec.append(runtime_loc.total_seconds())\n",
    "    \n",
    "    for row in result:\n",
    "        print(row)\n",
    "    print(\" \")\n",
    "    print(\" \")\n",
    "    \n",
    "    run_success = False\n",
    "    surface_ponded_water = 0.0;\n",
    "    if (len(result) > 1):\n",
    "        if (result[8][0:20]=='Surface ponded water'):\n",
    "            surface_ponded_water = float(result[8][30:38])\n",
    "#         if ((result[2] == '-------------------- Simulation Summary ----------------- ') & (result[8]=='Surface ponded water      =   0.0000000000 cm')):\n",
    "        if ((result[2] == '-------------------- Simulation Summary ----------------- ') ):\n",
    "            num_successful_runs = num_successful_runs + 1\n",
    "            run_success = True\n",
    "\n",
    "    if (run_success == False):\n",
    "        unsuccessful_parameter_sets.append(parameter_set)\n",
    "        print(\"unsuccessful parameter set:\")\n",
    "        print(parameter_set)\n",
    "        print(\" \")\n",
    "        print(\" \")\n",
    "        print(\" \")\n",
    "        print(\" \")\n",
    "        print(\" \")\n",
    "#         if (surface_ponded_water>0.0):\n",
    "#             unsuccessful_parameter_sets_ponded_water.append(parameter_set)\n",
    "        if ('mass balance closure not possible within 100000 iterations. Timeout ' in result):\n",
    "            unsuccessful_parameter_sets_timeout.append(parameter_set)\n",
    "        if (len(result)>1):\n",
    "            if (result[1]=='Local mass balance at this timestep... '):\n",
    "                unsuccessful_parameter_sets_mass_bal.append(parameter_set)\n",
    "            \n",
    "            \n",
    "        \n",
    "    num_runs = num_runs + 1\n",
    "    \n",
    "end_time = datetime.now() #used to record total runtime\n",
    "total_time = end_time - begin_time\n",
    "print(\"all runs complete.\")\n",
    "\n",
    "\n",
    "\n",
    "    "
   ]
  },
  {
   "cell_type": "code",
   "execution_count": null,
   "id": "e9deda8a",
   "metadata": {},
   "outputs": [],
   "source": [
    "print(\"elapsed time: \")\n",
    "print(total_time)\n",
    "print(\"num_successful_runs:\")\n",
    "print(num_successful_runs)\n",
    "print(\"num_runs:\")\n",
    "print(num_runs)\n",
    "print(\"success rate (%): \")\n",
    "print(100*num_successful_runs/num_runs)\n",
    "print(\"unsuccessful_parameter_sets:\")\n",
    "print(unsuccessful_parameter_sets)\n",
    "print(\"unsuccessful parameter sets due to erroneous ponded water: \")\n",
    "print(unsuccessful_parameter_sets_ponded_water)\n",
    "print(\"unsuccessful parameter sets due to mass balance error: \")\n",
    "print(unsuccessful_parameter_sets_mass_bal)\n",
    "print(\"unsuccessful parameter sets due to timeout (infinite loop likely): \")\n",
    "print(unsuccessful_parameter_sets_timeout)"
   ]
  },
  {
   "cell_type": "code",
   "execution_count": null,
   "id": "5e77ced0",
   "metadata": {},
   "outputs": [],
   "source": [
    "plt.hist(runtime_vec)"
   ]
  },
  {
   "cell_type": "code",
   "execution_count": null,
   "id": "e9ad7552",
   "metadata": {},
   "outputs": [],
   "source": [
    "unsuccessful_parameter_sets == unsuccessful_parameter_sets_timeout"
   ]
  },
  {
   "cell_type": "code",
   "execution_count": null,
   "id": "e27a0734",
   "metadata": {},
   "outputs": [],
   "source": [
    "# unsuccessful_parameter_sets"
   ]
  },
  {
   "cell_type": "code",
   "execution_count": null,
   "id": "6aa2ffbc",
   "metadata": {},
   "outputs": [],
   "source": [
    "x[unsuccessful_parameter_sets]"
   ]
  },
  {
   "cell_type": "code",
   "execution_count": null,
   "id": "d7f0834f",
   "metadata": {},
   "outputs": [],
   "source": [
    "# result[1]"
   ]
  },
  {
   "cell_type": "code",
   "execution_count": null,
   "id": "377bef5d",
   "metadata": {},
   "outputs": [],
   "source": [
    "# unsuccessful_parameter_sets_ponded_water "
   ]
  },
  {
   "cell_type": "code",
   "execution_count": null,
   "id": "4ef2a182",
   "metadata": {},
   "outputs": [],
   "source": [
    "# unsuccessful_parameter_sets_timeout "
   ]
  },
  {
   "cell_type": "code",
   "execution_count": null,
   "id": "7cfe03d6",
   "metadata": {},
   "outputs": [],
   "source": [
    "# unsuccessful_parameter_sets_mass_bal "
   ]
  },
  {
   "cell_type": "code",
   "execution_count": null,
   "id": "84046769",
   "metadata": {},
   "outputs": [],
   "source": [
    "# result[8][0:20]=='Surface ponded water'"
   ]
  },
  {
   "cell_type": "code",
   "execution_count": null,
   "id": "20c1af91",
   "metadata": {},
   "outputs": [],
   "source": [
    "# result"
   ]
  },
  {
   "cell_type": "code",
   "execution_count": null,
   "id": "ecd44b72",
   "metadata": {},
   "outputs": [],
   "source": [
    "# !pwd"
   ]
  },
  {
   "cell_type": "code",
   "execution_count": null,
   "id": "d0f97b8a",
   "metadata": {},
   "outputs": [],
   "source": []
  },
  {
   "cell_type": "code",
   "execution_count": null,
   "id": "e7ff7036",
   "metadata": {},
   "outputs": [],
   "source": []
  },
  {
   "cell_type": "code",
   "execution_count": null,
   "id": "8ca7d007",
   "metadata": {},
   "outputs": [],
   "source": []
  },
  {
   "cell_type": "code",
   "execution_count": null,
   "id": "43525563",
   "metadata": {},
   "outputs": [],
   "source": []
  },
  {
   "cell_type": "code",
   "execution_count": null,
   "id": "ebf2b5bf",
   "metadata": {},
   "outputs": [],
   "source": []
  }
 ],
 "metadata": {
  "kernelspec": {
   "display_name": "Python 3",
   "language": "python",
   "name": "python3"
  },
  "language_info": {
   "codemirror_mode": {
    "name": "ipython",
    "version": 3
   },
   "file_extension": ".py",
   "mimetype": "text/x-python",
   "name": "python",
   "nbconvert_exporter": "python",
   "pygments_lexer": "ipython3",
   "version": "3.8.8"
  }
 },
 "nbformat": 4,
 "nbformat_minor": 5
}
