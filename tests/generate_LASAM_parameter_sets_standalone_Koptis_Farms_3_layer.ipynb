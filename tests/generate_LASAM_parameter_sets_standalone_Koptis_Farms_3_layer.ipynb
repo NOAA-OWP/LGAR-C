{
 "cells": [
  {
   "cell_type": "code",
   "execution_count": null,
   "id": "302b4e77",
   "metadata": {},
   "outputs": [],
   "source": [
    "#this notebook establishes parameter sets that will be used by LASAM"
   ]
  },
  {
   "cell_type": "code",
   "execution_count": null,
   "id": "f89ff77e",
   "metadata": {},
   "outputs": [],
   "source": [
    "#!pip install smt"
   ]
  },
  {
   "cell_type": "code",
   "execution_count": null,
   "id": "8b623834",
   "metadata": {},
   "outputs": [],
   "source": [
    "###note: this should be moved into the main LGAR-C folder (rather than LGAR-C/tests) to be run as it is"
   ]
  },
  {
   "cell_type": "code",
   "execution_count": null,
   "id": "8013f23e",
   "metadata": {},
   "outputs": [],
   "source": [
    "import numpy as np\n",
    "import random \n",
    "from datetime import datetime #used to record total runtime\n",
    "# import os #needed to run system commands from python\n",
    "import subprocess #needed to run system commands from python, more flexible and safer than os\n",
    "from smt.sampling_methods import LHS #Latin hypercube sampling\n",
    "import sys\n",
    "import matplotlib.pyplot as plt\n",
    "import re"
   ]
  },
  {
   "cell_type": "code",
   "execution_count": null,
   "id": "a8156769",
   "metadata": {},
   "outputs": [],
   "source": [
    "theta_r_range = [0.01 ,0.15]\n",
    "theta_e_range = [0.3, 0.8]\n",
    "log_alpha_range =   [-3.0, -0.52] #corresponding to 0.001 and 0.3, via log_10\n",
    "n_range =       [1.01, 3] #I recommend n to be no smaller than 1.01. Weird things happen with the water retention curve below that  \n",
    "log_Ks_range =      [-3, 2] #corresponding to 0.001 and 100, via log_10\n",
    "initial_psi_range = [10, 3000]\n",
    "with_ponded_head = [-1, 1] #later, ponded head will be set to zero or nonzero based on this\n",
    "field_capacity_psi_range = [10.3, 516.5]\n"
   ]
  },
  {
   "cell_type": "code",
   "execution_count": null,
   "id": "2f274f50",
   "metadata": {},
   "outputs": [],
   "source": [
    "#establishes limits for Latin hypercube.\n",
    "#in this case there's going to be a new hypercube for each of the three soil layers.\n",
    "\n",
    "xlimits = np.array([[theta_r_range[0], theta_r_range[1]],\n",
    "                    [theta_e_range[0], theta_e_range[1]],\n",
    "                    [log_alpha_range[0], log_alpha_range[1]],\n",
    "                    [n_range[0], n_range[1]],\n",
    "                    [log_Ks_range[0], log_Ks_range[1]],\n",
    "                    [initial_psi_range[0], initial_psi_range[1]],\n",
    "                    [with_ponded_head[0], with_ponded_head[1]],\n",
    "                    [field_capacity_psi_range[0], field_capacity_psi_range[1]],\n",
    "                    ])\n"
   ]
  },
  {
   "cell_type": "code",
   "execution_count": null,
   "id": "a5226748",
   "metadata": {},
   "outputs": [],
   "source": [
    "samplingx = LHS(xlimits=xlimits,random_state=3) #random_state is for reproducability\n",
    "samplingy = LHS(xlimits=xlimits,random_state=4) #random_state is for reproducability\n",
    "samplingz = LHS(xlimits=xlimits,random_state=5) #random_state is for reproducability\n",
    "\n",
    "#this creates the Latin hypercube containing all parameter sets, where num is the number of parameter sets desired.\n",
    "num = 10000\n",
    "x = samplingx(num)\n",
    "y = samplingy(num)\n",
    "z = samplingz(num)"
   ]
  },
  {
   "cell_type": "code",
   "execution_count": null,
   "id": "0b724c1f",
   "metadata": {},
   "outputs": [],
   "source": [
    "x"
   ]
  },
  {
   "cell_type": "code",
   "execution_count": null,
   "id": "a2e53148",
   "metadata": {},
   "outputs": [],
   "source": [
    "y"
   ]
  },
  {
   "cell_type": "code",
   "execution_count": null,
   "id": "499e0713",
   "metadata": {},
   "outputs": [],
   "source": [
    "z"
   ]
  },
  {
   "cell_type": "code",
   "execution_count": null,
   "id": "cc53ff48",
   "metadata": {},
   "outputs": [],
   "source": []
  },
  {
   "cell_type": "code",
   "execution_count": null,
   "id": "89af9ee2",
   "metadata": {},
   "outputs": [],
   "source": []
  },
  {
   "cell_type": "code",
   "execution_count": null,
   "id": "34710003",
   "metadata": {
    "scrolled": true
   },
   "outputs": [],
   "source": [
    "num_runs = 0\n",
    "num_successful_runs = 0\n",
    "unsuccessful_parameter_sets = []\n",
    "#error types are: mass balance, timeout due to infinite loop, and nonzero ponded head when its max is set to 0.\n",
    "unsuccessful_parameter_sets_ponded_water = []\n",
    "unsuccessful_parameter_sets_timeout = []\n",
    "unsuccessful_parameter_sets_mass_bal = []\n",
    "runtime_vec = []\n",
    "global_balance_vec = []\n",
    "\n",
    "begin_time = datetime.now() #used to record total runtime\n",
    "\n",
    "# test_set = [8400]\n",
    "# for parameter_set in test_set:\n",
    "# for parameter_set in range(test_set[0],num):\n",
    "\n",
    "for parameter_set in range(num):\n",
    "\n",
    "    x[parameter_set,2] = 10**x[parameter_set,2]\n",
    "    x[parameter_set,4] = 10**x[parameter_set,4]\n",
    "    y[parameter_set,2] = 10**y[parameter_set,2]\n",
    "    y[parameter_set,4] = 10**y[parameter_set,4]\n",
    "    z[parameter_set,2] = 10**z[parameter_set,2]\n",
    "    z[parameter_set,4] = 10**z[parameter_set,4]\n",
    "    print(\"parameter set:\")\n",
    "    print(parameter_set)\n",
    "#     print(\"actual alpha:\")\n",
    "#     print(x[parameter_set,2])\n",
    "#     print(\"actual Ks:\")\n",
    "#     print(x[parameter_set,4])\n",
    "    with open('data/vG_default_params_LHS_Koptis_Farms_3_layer.dat', 'r') as file:\n",
    "    # read a list of lines into data\n",
    "        parameters_file_text = file.readlines()\n",
    "        file.close()\n",
    "#     layer_to_replace = random.randint(1, 3)\n",
    "    layers_to_replace = [1,2,3]\n",
    "#     print(\"layer_to_replace: \\n\")\n",
    "#     print(layer_to_replace)\n",
    "    for layer_to_replace in layers_to_replace:\n",
    "        if layer_to_replace == 1:\n",
    "            parameters_file_text[layer_to_replace] = '\"Clay\"\\t                ' + str(x[parameter_set,0]) + '\\t' + str(x[parameter_set,1]) + '\\t' + str(x[parameter_set,2]) + '\\t' + str(x[parameter_set,3]) + '\\t' + str(x[parameter_set,4]) + '\\n'    \n",
    "        if layer_to_replace == 2:\n",
    "            parameters_file_text[layer_to_replace] = '\"Clay\"\\t                ' + str(y[parameter_set,0]) + '\\t' + str(y[parameter_set,1]) + '\\t' + str(y[parameter_set,2]) + '\\t' + str(y[parameter_set,3]) + '\\t' + str(y[parameter_set,4]) + '\\n' \n",
    "        if layer_to_replace == 3:\n",
    "            parameters_file_text[layer_to_replace] = '\"Clay\"\\t                ' + str(z[parameter_set,0]) + '\\t' + str(z[parameter_set,1]) + '\\t' + str(z[parameter_set,2]) + '\\t' + str(z[parameter_set,3]) + '\\t' + str(z[parameter_set,4]) + '\\n' \n",
    "            \n",
    "    with open('data/vG_default_params_LHS_Koptis_Farms_3_layer.dat', 'w') as file:\n",
    "        file.writelines( parameters_file_text )\n",
    "        file.close()\n",
    "        \n",
    "    with open('configs/config_lasam_LHS_Koptis_Farms_3_layer.txt', 'r') as file:\n",
    "    # read a list of lines into data\n",
    "        config_file_text = file.readlines()\n",
    "        file.close()\n",
    "    config_file_text[4] = 'initial_psi=' + str(x[parameter_set,5]) + '[cm]\\n'\n",
    "    \n",
    "    if (x[parameter_set,6]<0):\n",
    "        config_file_text[8] = 'ponded_depth_max=0[cm]\\n'\n",
    "    else:\n",
    "        config_file_text[8] = 'ponded_depth_max=2[cm]\\n'\n",
    "    if (x[parameter_set,6]>0.5):\n",
    "        config_file_text[8] = 'ponded_depth_max=5[cm]\\n'\n",
    "        \n",
    "    config_file_text[13] = 'field_capacity_psi=' + str(x[parameter_set,7]) + '[cm]\\n'\n",
    "        \n",
    "    with open('configs/config_lasam_LHS_Koptis_Farms_3_layer.txt', 'w') as file:\n",
    "        file.writelines( config_file_text )\n",
    "        file.close()\n",
    "        \n",
    "    print(\"running LASAM ...\")\n",
    "#     result = !./build/lasam_standalone configs/config_lasam_LHS_Phillipsburg.txt\n",
    "#     result = !./build/lasam_standalone configs/config_lasam_LHS_Koptis_Farms.txt \n",
    "    start_time_loc = datetime.now() #used to record local runtime\n",
    "    result = !./build/lasam_standalone configs/config_lasam_LHS_Koptis_Farms_3_layer.txt \n",
    "    end_time_loc = datetime.now() #used to record local runtime\n",
    "    runtime_loc = end_time_loc - start_time_loc\n",
    "    runtime_vec.append(runtime_loc.total_seconds())\n",
    "    \n",
    "    for row in result:\n",
    "        print(row)\n",
    "    print(\" \")\n",
    "    print(\" \")\n",
    "    \n",
    "    run_success = False\n",
    "    surface_ponded_water = 0.0;\n",
    "    if (len(result) > 1):\n",
    "#         if (result[8][0:20]=='Surface ponded water'):\n",
    "#             surface_ponded_water = float(result[8][30:38])\n",
    "#         if ((result[2] == '-------------------- Simulation Summary ----------------- ') & (result[8]=='Surface ponded water      =   0.0000000000 cm')):\n",
    "        if ('-------------------- Simulation Summary ----------------- ' in result):\n",
    "            num_successful_runs = num_successful_runs + 1\n",
    "            run_success = True\n",
    "\n",
    "    if (run_success == False):\n",
    "        unsuccessful_parameter_sets.append(parameter_set)\n",
    "        print(\"unsuccessful parameter set: #################################################################################### \")\n",
    "        print(parameter_set)\n",
    "        print(\" \")\n",
    "        print(\" \")\n",
    "        print(\" \")\n",
    "        print(\" \")\n",
    "        print(\" \")\n",
    "        for line in parameters_file_text:\n",
    "            print(line)\n",
    "        print(\"adding code that causes the notebook to crash when an individual run fails, for testing purposes\")\n",
    "        sys.exit()\n",
    "        if ('mass balance closure not possible within 100000 iterations. Timeout ' in result):\n",
    "            unsuccessful_parameter_sets_timeout.append(parameter_set)\n",
    "        if (len(result)>1):\n",
    "            if (result[1]=='Local mass balance at this timestep... '):\n",
    "                unsuccessful_parameter_sets_mass_bal.append(parameter_set)\n",
    "                \n",
    "    if (run_success):\n",
    "\n",
    "        # Initialize the variable for the global balance number\n",
    "        global_balance = None\n",
    "\n",
    "        # Loop through the list to find the string containing \"Global balance\"\n",
    "        for line in result:\n",
    "            if \"Global balance\" in line:\n",
    "                # Extract the number using a regular expression\n",
    "                number_str = re.search(r\"[-+]?\\d*\\.\\d+e[-+]?\\d+\", line).group()\n",
    "                # Convert the extracted string to a float\n",
    "                global_balance = float(number_str)\n",
    "                break  # Stop the loop once the number is found\n",
    "\n",
    "#         print(global_balance)\n",
    "        global_balance_vec.append(np.log10(abs(global_balance)))\n",
    "            \n",
    "            \n",
    "        \n",
    "    num_runs = num_runs + 1\n",
    "    \n",
    "end_time = datetime.now() #used to record total runtime\n",
    "total_time = end_time - begin_time\n",
    "print(\"all runs complete.\")\n",
    "\n",
    "\n",
    "\n",
    "    "
   ]
  },
  {
   "cell_type": "code",
   "execution_count": null,
   "id": "b2dded7d",
   "metadata": {},
   "outputs": [],
   "source": [
    "result"
   ]
  },
  {
   "cell_type": "code",
   "execution_count": null,
   "id": "e9deda8a",
   "metadata": {},
   "outputs": [],
   "source": [
    "print(\"elapsed time: \")\n",
    "print(total_time)\n",
    "print(\"num_successful_runs:\")\n",
    "print(num_successful_runs)\n",
    "print(\"num_runs:\")\n",
    "print(num_runs)\n",
    "print(\"success rate (%): \")\n",
    "print(100*num_successful_runs/num_runs)\n",
    "print(\"unsuccessful_parameter_sets:\")\n",
    "print(unsuccessful_parameter_sets)\n",
    "print(\"unsuccessful parameter sets due to erroneous ponded water: \")\n",
    "print(unsuccessful_parameter_sets_ponded_water)\n",
    "print(\"unsuccessful parameter sets due to mass balance error: \")\n",
    "print(unsuccessful_parameter_sets_mass_bal)\n",
    "print(\"unsuccessful parameter sets due to timeout (infinite loop likely): \")\n",
    "print(unsuccessful_parameter_sets_timeout)"
   ]
  },
  {
   "cell_type": "code",
   "execution_count": null,
   "id": "9d23a465",
   "metadata": {},
   "outputs": [],
   "source": [
    "global_balance_vec_filtered = []\n",
    "for item in global_balance_vec:\n",
    "    if (not np.isinf(np.array(item))):\n",
    "        global_balance_vec_filtered.append(item)\n",
    "global_balance_vec = global_balance_vec_filtered"
   ]
  },
  {
   "cell_type": "code",
   "execution_count": null,
   "id": "c54f17b5",
   "metadata": {},
   "outputs": [],
   "source": [
    "plt.hist(global_balance_vec)"
   ]
  },
  {
   "cell_type": "code",
   "execution_count": null,
   "id": "670ba0d1",
   "metadata": {},
   "outputs": [],
   "source": [
    "plt.hist(runtime_vec)"
   ]
  },
  {
   "cell_type": "code",
   "execution_count": null,
   "id": "b20264fb",
   "metadata": {},
   "outputs": [],
   "source": [
    "np.mean(runtime_vec)"
   ]
  },
  {
   "cell_type": "code",
   "execution_count": null,
   "id": "e9ad7552",
   "metadata": {},
   "outputs": [],
   "source": [
    "unsuccessful_parameter_sets == unsuccessful_parameter_sets_timeout"
   ]
  },
  {
   "cell_type": "code",
   "execution_count": null,
   "id": "e27a0734",
   "metadata": {},
   "outputs": [],
   "source": [
    "# unsuccessful_parameter_sets"
   ]
  },
  {
   "cell_type": "code",
   "execution_count": null,
   "id": "6aa2ffbc",
   "metadata": {},
   "outputs": [],
   "source": [
    "x[unsuccessful_parameter_sets]"
   ]
  },
  {
   "cell_type": "code",
   "execution_count": null,
   "id": "d7f0834f",
   "metadata": {},
   "outputs": [],
   "source": [
    "# result[1]"
   ]
  },
  {
   "cell_type": "code",
   "execution_count": null,
   "id": "377bef5d",
   "metadata": {},
   "outputs": [],
   "source": [
    "# unsuccessful_parameter_sets_ponded_water "
   ]
  },
  {
   "cell_type": "code",
   "execution_count": null,
   "id": "4ef2a182",
   "metadata": {},
   "outputs": [],
   "source": [
    "# unsuccessful_parameter_sets_timeout "
   ]
  },
  {
   "cell_type": "code",
   "execution_count": null,
   "id": "7cfe03d6",
   "metadata": {},
   "outputs": [],
   "source": [
    "# unsuccessful_parameter_sets_mass_bal "
   ]
  },
  {
   "cell_type": "code",
   "execution_count": null,
   "id": "84046769",
   "metadata": {},
   "outputs": [],
   "source": [
    "# result[8][0:20]=='Surface ponded water'"
   ]
  },
  {
   "cell_type": "code",
   "execution_count": null,
   "id": "20c1af91",
   "metadata": {},
   "outputs": [],
   "source": [
    "# result"
   ]
  },
  {
   "cell_type": "code",
   "execution_count": null,
   "id": "ecd44b72",
   "metadata": {},
   "outputs": [],
   "source": [
    "# !pwd"
   ]
  },
  {
   "cell_type": "code",
   "execution_count": null,
   "id": "9cc2d6b8",
   "metadata": {},
   "outputs": [],
   "source": [
    "plt.hist(global_balance_vec)"
   ]
  },
  {
   "cell_type": "code",
   "execution_count": null,
   "id": "443b3a8e",
   "metadata": {},
   "outputs": [],
   "source": [
    "count = 0\n",
    "for item in global_balance_vec:\n",
    "    if item>-4:\n",
    "        count = count + 1\n",
    "count/len(global_balance_vec)"
   ]
  },
  {
   "cell_type": "code",
   "execution_count": null,
   "id": "1f93686e",
   "metadata": {},
   "outputs": [],
   "source": []
  },
  {
   "cell_type": "code",
   "execution_count": null,
   "id": "4bc10037",
   "metadata": {},
   "outputs": [],
   "source": []
  },
  {
   "cell_type": "code",
   "execution_count": null,
   "id": "4b30fc71",
   "metadata": {},
   "outputs": [],
   "source": []
  },
  {
   "cell_type": "code",
   "execution_count": null,
   "id": "243d7ce0",
   "metadata": {},
   "outputs": [],
   "source": [
    "###example of how the psi-theta relationship (soil water retention curve) loses its 1:1\n",
    "###behavior for small psi in the van Genuchten model\n",
    "###also true for extremely large psi \n",
    "\n",
    "# Defining the variables\n",
    "theta_r = 0.02\n",
    "theta_s = 0.6\n",
    "alpha = 0.001\n",
    "n = 2.8\n",
    "psi = 0.001\n",
    "\n",
    "# Calculating the expression\n",
    "theta = theta_r + (theta_s - theta_r) / (1 + (alpha * psi)**n)**(1 - 1/n)\n",
    "theta\n",
    "\n",
    "#note that for psi = 0.001, theta evaluates to exactly theta_s and not slightly less."
   ]
  },
  {
   "cell_type": "code",
   "execution_count": null,
   "id": "556fbb79",
   "metadata": {},
   "outputs": [],
   "source": [
    "# Defining the variables\n",
    "theta_r = 0.1\n",
    "theta_s = 0.4\n",
    "alpha = 0.1\n",
    "n = 1.4\n",
    "psi = 0.001\n",
    "\n",
    "# Calculating the expression\n",
    "theta = theta_r + (theta_s - theta_r) / (1 + (alpha * psi)**n)**(1 - 1/n)\n",
    "theta\n",
    "\n",
    "###in contrast, note that in this case, the same psi value yields a theta that is less than\n",
    "###theta_s. While the difference is small, it's enough to cause an infinite WF depth because\n",
    "##when a WF crosses layer boundaries from the second soil to the first, there will be no delta\n",
    "###psi that allows for mass balance closure because theta will not change wrt psi "
   ]
  },
  {
   "cell_type": "code",
   "execution_count": null,
   "id": "9958c9c2",
   "metadata": {},
   "outputs": [],
   "source": []
  }
 ],
 "metadata": {
  "kernelspec": {
   "display_name": "Python 3",
   "language": "python",
   "name": "python3"
  },
  "language_info": {
   "codemirror_mode": {
    "name": "ipython",
    "version": 3
   },
   "file_extension": ".py",
   "mimetype": "text/x-python",
   "name": "python",
   "nbconvert_exporter": "python",
   "pygments_lexer": "ipython3",
   "version": "3.8.8"
  }
 },
 "nbformat": 4,
 "nbformat_minor": 5
}
