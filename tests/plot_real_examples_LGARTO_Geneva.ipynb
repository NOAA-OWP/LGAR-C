{
 "cells": [
  {
   "cell_type": "code",
   "execution_count": null,
   "id": "424f2e61",
   "metadata": {},
   "outputs": [],
   "source": []
  },
  {
   "cell_type": "markdown",
   "id": "aed94620",
   "metadata": {},
   "source": [
    "### Compares LGARTO (C) real examples against Hydrus\n",
    "### Date: 14 August, 2023 (last updated)\n",
    "### By Ahmad Jan and Peter La Follette"
   ]
  },
  {
   "cell_type": "code",
   "execution_count": null,
   "id": "fc0b17d5",
   "metadata": {},
   "outputs": [],
   "source": [
    "#This notebook demonstrates LGARTO's ability to emulate Richards equation solver results \n",
    "#at the USDA SCAN site near Geneva, NY."
   ]
  },
  {
   "cell_type": "code",
   "execution_count": 128,
   "id": "b9051df0",
   "metadata": {},
   "outputs": [],
   "source": [
    "import numpy as np\n",
    "from matplotlib import pyplot as plt\n",
    "import sys, os\n",
    "import importlib as imp\n",
    "import copy\n",
    "import pandas as pd\n",
    "import datetime as dt\n",
    "\n",
    "from mpl_toolkits.axes_grid1.inset_locator import zoomed_inset_axes\n",
    "from mpl_toolkits.axes_grid1.inset_locator import mark_inset\n",
    "import matplotlib.dates as mdates\n",
    "\n",
    "import pickle\n",
    "import hydroeval"
   ]
  },
  {
   "cell_type": "code",
   "execution_count": 129,
   "id": "3a9f5ba8",
   "metadata": {},
   "outputs": [],
   "source": [
    "# C version\n",
    "sim_case = 'outputs/Geneva/data_variables.csv' \n",
    "c_path_vars = sim_case\n",
    "\n",
    "outfile = \"c-hydrus-comparison_Geneva.png\"\n",
    "outfile_summpary_plot = \"c-hydrus-comparison_Geneva_summary.png\"\n",
    "\n",
    "save_outfile = True"
   ]
  },
  {
   "cell_type": "code",
   "execution_count": null,
   "id": "5b1e2e22",
   "metadata": {},
   "outputs": [],
   "source": []
  },
  {
   "cell_type": "code",
   "execution_count": 130,
   "id": "8f509cf8",
   "metadata": {},
   "outputs": [],
   "source": [
    "num_steps = 8760\n",
    "    \n",
    "start = pd.Timestamp(\"2020-10-01 00:00:00\")\n",
    "end = pd.Timestamp(\"2021-10-01 00:00:00\")\n",
    "times = pd.date_range(start=start,end=end, periods=num_steps) #freq='min'\n",
    "times_bmi = pd.date_range(start=start,end=end, periods=num_steps)\n",
    "\n",
    "xfmt = mdates.DateFormatter('%Y/%m/%d')\n"
   ]
  },
  {
   "cell_type": "code",
   "execution_count": 131,
   "id": "519cf227",
   "metadata": {},
   "outputs": [
    {
     "data": {
      "text/html": [
       "<div>\n",
       "<style scoped>\n",
       "    .dataframe tbody tr th:only-of-type {\n",
       "        vertical-align: middle;\n",
       "    }\n",
       "\n",
       "    .dataframe tbody tr th {\n",
       "        vertical-align: top;\n",
       "    }\n",
       "\n",
       "    .dataframe thead th {\n",
       "        text-align: right;\n",
       "    }\n",
       "</style>\n",
       "<table border=\"1\" class=\"dataframe\">\n",
       "  <thead>\n",
       "    <tr style=\"text-align: right;\">\n",
       "      <th></th>\n",
       "      <th>Time</th>\n",
       "      <th>precipitation</th>\n",
       "      <th>potential_evapotranspiration</th>\n",
       "      <th>actual_evapotranspiration</th>\n",
       "      <th>surface_runoff</th>\n",
       "      <th>giuh_runoff</th>\n",
       "      <th>soil_storage</th>\n",
       "      <th>total_discharge</th>\n",
       "      <th>infiltration</th>\n",
       "      <th>percolation</th>\n",
       "      <th>groundwater_to_stream_recharge</th>\n",
       "      <th>mass_balance</th>\n",
       "    </tr>\n",
       "  </thead>\n",
       "  <tbody>\n",
       "    <tr>\n",
       "      <th>0</th>\n",
       "      <td>2020-10-01 00:00:00</td>\n",
       "      <td>0.0</td>\n",
       "      <td>0.000000e+00</td>\n",
       "      <td>0.000000e+00</td>\n",
       "      <td>0.0</td>\n",
       "      <td>0.0</td>\n",
       "      <td>0.488087</td>\n",
       "      <td>0.0</td>\n",
       "      <td>0.0</td>\n",
       "      <td>0.000000e+00</td>\n",
       "      <td>0.0</td>\n",
       "      <td>0.0</td>\n",
       "    </tr>\n",
       "    <tr>\n",
       "      <th>1</th>\n",
       "      <td>2020-10-01 01:00:00</td>\n",
       "      <td>0.0</td>\n",
       "      <td>0.000000e+00</td>\n",
       "      <td>0.000000e+00</td>\n",
       "      <td>0.0</td>\n",
       "      <td>0.0</td>\n",
       "      <td>0.488087</td>\n",
       "      <td>0.0</td>\n",
       "      <td>0.0</td>\n",
       "      <td>-1.233900e-11</td>\n",
       "      <td>0.0</td>\n",
       "      <td>-0.0</td>\n",
       "    </tr>\n",
       "    <tr>\n",
       "      <th>2</th>\n",
       "      <td>2020-10-01 02:00:00</td>\n",
       "      <td>0.0</td>\n",
       "      <td>0.000000e+00</td>\n",
       "      <td>0.000000e+00</td>\n",
       "      <td>0.0</td>\n",
       "      <td>0.0</td>\n",
       "      <td>0.488087</td>\n",
       "      <td>0.0</td>\n",
       "      <td>0.0</td>\n",
       "      <td>-1.213300e-11</td>\n",
       "      <td>0.0</td>\n",
       "      <td>-0.0</td>\n",
       "    </tr>\n",
       "    <tr>\n",
       "      <th>3</th>\n",
       "      <td>2020-10-01 03:00:00</td>\n",
       "      <td>0.0</td>\n",
       "      <td>0.000000e+00</td>\n",
       "      <td>0.000000e+00</td>\n",
       "      <td>0.0</td>\n",
       "      <td>0.0</td>\n",
       "      <td>0.488087</td>\n",
       "      <td>0.0</td>\n",
       "      <td>0.0</td>\n",
       "      <td>-1.193000e-11</td>\n",
       "      <td>0.0</td>\n",
       "      <td>0.0</td>\n",
       "    </tr>\n",
       "    <tr>\n",
       "      <th>4</th>\n",
       "      <td>2020-10-01 04:00:00</td>\n",
       "      <td>0.0</td>\n",
       "      <td>1.872001e-08</td>\n",
       "      <td>1.862037e-08</td>\n",
       "      <td>0.0</td>\n",
       "      <td>0.0</td>\n",
       "      <td>0.488087</td>\n",
       "      <td>0.0</td>\n",
       "      <td>0.0</td>\n",
       "      <td>-1.173100e-11</td>\n",
       "      <td>0.0</td>\n",
       "      <td>0.0</td>\n",
       "    </tr>\n",
       "  </tbody>\n",
       "</table>\n",
       "</div>"
      ],
      "text/plain": [
       "                  Time  precipitation  potential_evapotranspiration  \\\n",
       "0  2020-10-01 00:00:00            0.0                  0.000000e+00   \n",
       "1  2020-10-01 01:00:00            0.0                  0.000000e+00   \n",
       "2  2020-10-01 02:00:00            0.0                  0.000000e+00   \n",
       "3  2020-10-01 03:00:00            0.0                  0.000000e+00   \n",
       "4  2020-10-01 04:00:00            0.0                  1.872001e-08   \n",
       "\n",
       "   actual_evapotranspiration  surface_runoff  giuh_runoff  soil_storage  \\\n",
       "0               0.000000e+00             0.0          0.0      0.488087   \n",
       "1               0.000000e+00             0.0          0.0      0.488087   \n",
       "2               0.000000e+00             0.0          0.0      0.488087   \n",
       "3               0.000000e+00             0.0          0.0      0.488087   \n",
       "4               1.862037e-08             0.0          0.0      0.488087   \n",
       "\n",
       "   total_discharge  infiltration   percolation  \\\n",
       "0              0.0           0.0  0.000000e+00   \n",
       "1              0.0           0.0 -1.233900e-11   \n",
       "2              0.0           0.0 -1.213300e-11   \n",
       "3              0.0           0.0 -1.193000e-11   \n",
       "4              0.0           0.0 -1.173100e-11   \n",
       "\n",
       "   groundwater_to_stream_recharge  mass_balance  \n",
       "0                             0.0           0.0  \n",
       "1                             0.0          -0.0  \n",
       "2                             0.0          -0.0  \n",
       "3                             0.0           0.0  \n",
       "4                             0.0           0.0  "
      ]
     },
     "execution_count": 131,
     "metadata": {},
     "output_type": "execute_result"
    }
   ],
   "source": [
    "data_c_vars = pd.read_csv(c_path_vars)\n",
    "data_c_vars = data_c_vars[0:num_steps]\n",
    "data_c_vars.head()"
   ]
  },
  {
   "cell_type": "code",
   "execution_count": 132,
   "id": "636fdb61",
   "metadata": {},
   "outputs": [],
   "source": [
    "m_to_mm = 1000\n"
   ]
  },
  {
   "cell_type": "markdown",
   "id": "6a1a09f9",
   "metadata": {},
   "source": [
    "### Read Hydrus data"
   ]
  },
  {
   "cell_type": "code",
   "execution_count": 133,
   "id": "ae2f77de",
   "metadata": {},
   "outputs": [],
   "source": [
    "hyd_path = 'HYDRUS_outputs/Geneva/T_Level.txt'\n",
    "\n",
    "\n",
    "HYDRUS_output = pd.read_fwf(hyd_path,widths=[13,13,13,13,13,13,13,13,13,13,13,13,13,13,13,13,13,13,13,13,13,13])            \n",
    "HYDRUS_datetime_vec = []\n",
    "i=0\n",
    "prior_dt = dt.datetime.strptime(data_c_vars['Time'][0],'%Y-%m-%d %H:%M:%S') + dt.timedelta(hours=HYDRUS_output['Time'][i]-1)\n",
    "for i in range(0,len(HYDRUS_output['Time'])):\n",
    "    current_dt = dt.datetime.strptime(data_c_vars['Time'][0],'%Y-%m-%d %H:%M:%S') + dt.timedelta(hours=HYDRUS_output['Time'][i])\n",
    "    if (current_dt!=prior_dt):\n",
    "        HYDRUS_datetime_vec.append(current_dt)\n",
    "    else:\n",
    "        HYDRUS_output = HYDRUS_output.drop(i)\n",
    "    prior_dt = current_dt\n",
    "HYDRUS_output['HYDRUS_datetime_vec'] = HYDRUS_datetime_vec\n",
    "HYDRUS_output = HYDRUS_output.set_index('HYDRUS_datetime_vec')\n"
   ]
  },
  {
   "cell_type": "code",
   "execution_count": 134,
   "id": "93f5d82f",
   "metadata": {},
   "outputs": [
    {
     "data": {
      "text/plain": [
       "8760"
      ]
     },
     "execution_count": 134,
     "metadata": {},
     "output_type": "execute_result"
    }
   ],
   "source": [
    "len(HYDRUS_output)"
   ]
  },
  {
   "cell_type": "code",
   "execution_count": 135,
   "id": "88ec5072",
   "metadata": {},
   "outputs": [],
   "source": [
    "HYDRUS_output = HYDRUS_output.drop_duplicates()"
   ]
  },
  {
   "cell_type": "code",
   "execution_count": 136,
   "id": "ea611ca7",
   "metadata": {},
   "outputs": [
    {
     "data": {
      "text/plain": [
       "8760"
      ]
     },
     "execution_count": 136,
     "metadata": {},
     "output_type": "execute_result"
    }
   ],
   "source": [
    "len(HYDRUS_output)"
   ]
  },
  {
   "cell_type": "code",
   "execution_count": null,
   "id": "7388195e",
   "metadata": {},
   "outputs": [],
   "source": []
  },
  {
   "cell_type": "code",
   "execution_count": null,
   "id": "669b41d4",
   "metadata": {},
   "outputs": [],
   "source": []
  },
  {
   "cell_type": "code",
   "execution_count": 137,
   "id": "9d3645b4",
   "metadata": {},
   "outputs": [
    {
     "data": {
      "text/html": [
       "<div>\n",
       "<style scoped>\n",
       "    .dataframe tbody tr th:only-of-type {\n",
       "        vertical-align: middle;\n",
       "    }\n",
       "\n",
       "    .dataframe tbody tr th {\n",
       "        vertical-align: top;\n",
       "    }\n",
       "\n",
       "    .dataframe thead th {\n",
       "        text-align: right;\n",
       "    }\n",
       "</style>\n",
       "<table border=\"1\" class=\"dataframe\">\n",
       "  <thead>\n",
       "    <tr style=\"text-align: right;\">\n",
       "      <th></th>\n",
       "      <th>Time</th>\n",
       "      <th>rTop</th>\n",
       "      <th>rRoot</th>\n",
       "      <th>vTop</th>\n",
       "      <th>vRoot</th>\n",
       "      <th>vBot</th>\n",
       "      <th>sum(rTop</th>\n",
       "      <th>)   sum(rRoot</th>\n",
       "      <th>)    sum(vTop</th>\n",
       "      <th>)   sum(vRoot</th>\n",
       "      <th>...</th>\n",
       "      <th>hRoot</th>\n",
       "      <th>hBot</th>\n",
       "      <th>RunOff</th>\n",
       "      <th>sum(RunOff</th>\n",
       "      <th>)     Volume</th>\n",
       "      <th>sum(Infil</th>\n",
       "      <th>)    sum(Evap</th>\n",
       "      <th>) TLevel Cum(</th>\n",
       "      <th>WTrans)  Snow</th>\n",
       "      <th>Layer</th>\n",
       "    </tr>\n",
       "    <tr>\n",
       "      <th>HYDRUS_datetime_vec</th>\n",
       "      <th></th>\n",
       "      <th></th>\n",
       "      <th></th>\n",
       "      <th></th>\n",
       "      <th></th>\n",
       "      <th></th>\n",
       "      <th></th>\n",
       "      <th></th>\n",
       "      <th></th>\n",
       "      <th></th>\n",
       "      <th></th>\n",
       "      <th></th>\n",
       "      <th></th>\n",
       "      <th></th>\n",
       "      <th></th>\n",
       "      <th></th>\n",
       "      <th></th>\n",
       "      <th></th>\n",
       "      <th></th>\n",
       "      <th></th>\n",
       "      <th></th>\n",
       "    </tr>\n",
       "  </thead>\n",
       "  <tbody>\n",
       "    <tr>\n",
       "      <th>2020-10-01 01:00:00</th>\n",
       "      <td>1.0</td>\n",
       "      <td>0.0</td>\n",
       "      <td>0.000000</td>\n",
       "      <td>0.000000e+00</td>\n",
       "      <td>0.000000</td>\n",
       "      <td>0.0</td>\n",
       "      <td>0.0</td>\n",
       "      <td>0.000000</td>\n",
       "      <td>0.000000e+00</td>\n",
       "      <td>0.000000</td>\n",
       "      <td>...</td>\n",
       "      <td>-190.25</td>\n",
       "      <td>0.0</td>\n",
       "      <td>0.0</td>\n",
       "      <td>0.0</td>\n",
       "      <td>53.678</td>\n",
       "      <td>0.0</td>\n",
       "      <td>0.0</td>\n",
       "      <td>1  0.00</td>\n",
       "      <td>0.0</td>\n",
       "      <td>0.0</td>\n",
       "    </tr>\n",
       "    <tr>\n",
       "      <th>2020-10-01 02:00:00</th>\n",
       "      <td>2.0</td>\n",
       "      <td>0.0</td>\n",
       "      <td>0.000000</td>\n",
       "      <td>0.000000e+00</td>\n",
       "      <td>0.000000</td>\n",
       "      <td>0.0</td>\n",
       "      <td>0.0</td>\n",
       "      <td>0.000000</td>\n",
       "      <td>0.000000e+00</td>\n",
       "      <td>0.000000</td>\n",
       "      <td>...</td>\n",
       "      <td>-190.25</td>\n",
       "      <td>0.0</td>\n",
       "      <td>0.0</td>\n",
       "      <td>0.0</td>\n",
       "      <td>53.678</td>\n",
       "      <td>0.0</td>\n",
       "      <td>0.0</td>\n",
       "      <td>2  0.00</td>\n",
       "      <td>0.0</td>\n",
       "      <td>0.0</td>\n",
       "    </tr>\n",
       "    <tr>\n",
       "      <th>2020-10-01 03:00:00</th>\n",
       "      <td>3.0</td>\n",
       "      <td>0.0</td>\n",
       "      <td>0.000000</td>\n",
       "      <td>0.000000e+00</td>\n",
       "      <td>0.000000</td>\n",
       "      <td>0.0</td>\n",
       "      <td>0.0</td>\n",
       "      <td>0.000000</td>\n",
       "      <td>0.000000e+00</td>\n",
       "      <td>0.000000</td>\n",
       "      <td>...</td>\n",
       "      <td>-190.25</td>\n",
       "      <td>0.0</td>\n",
       "      <td>0.0</td>\n",
       "      <td>0.0</td>\n",
       "      <td>53.678</td>\n",
       "      <td>0.0</td>\n",
       "      <td>0.0</td>\n",
       "      <td>3  0.00</td>\n",
       "      <td>0.0</td>\n",
       "      <td>0.0</td>\n",
       "    </tr>\n",
       "    <tr>\n",
       "      <th>2020-10-01 04:00:00</th>\n",
       "      <td>4.0</td>\n",
       "      <td>0.0</td>\n",
       "      <td>0.000000</td>\n",
       "      <td>0.000000e+00</td>\n",
       "      <td>0.000000</td>\n",
       "      <td>0.0</td>\n",
       "      <td>0.0</td>\n",
       "      <td>0.000000</td>\n",
       "      <td>0.000000e+00</td>\n",
       "      <td>0.000000</td>\n",
       "      <td>...</td>\n",
       "      <td>-190.25</td>\n",
       "      <td>0.0</td>\n",
       "      <td>0.0</td>\n",
       "      <td>0.0</td>\n",
       "      <td>53.678</td>\n",
       "      <td>0.0</td>\n",
       "      <td>0.0</td>\n",
       "      <td>4  0.00</td>\n",
       "      <td>0.0</td>\n",
       "      <td>0.0</td>\n",
       "    </tr>\n",
       "    <tr>\n",
       "      <th>2020-10-01 05:00:00</th>\n",
       "      <td>5.0</td>\n",
       "      <td>0.0</td>\n",
       "      <td>0.000002</td>\n",
       "      <td>-7.264200e-09</td>\n",
       "      <td>0.000002</td>\n",
       "      <td>0.0</td>\n",
       "      <td>0.0</td>\n",
       "      <td>0.000002</td>\n",
       "      <td>-7.264200e-09</td>\n",
       "      <td>0.000002</td>\n",
       "      <td>...</td>\n",
       "      <td>-190.25</td>\n",
       "      <td>0.0</td>\n",
       "      <td>0.0</td>\n",
       "      <td>0.0</td>\n",
       "      <td>53.678</td>\n",
       "      <td>0.0</td>\n",
       "      <td>0.0</td>\n",
       "      <td>5  0.00</td>\n",
       "      <td>0.0</td>\n",
       "      <td>0.0</td>\n",
       "    </tr>\n",
       "  </tbody>\n",
       "</table>\n",
       "<p>5 rows × 22 columns</p>\n",
       "</div>"
      ],
      "text/plain": [
       "                     Time  rTop     rRoot          vTop     vRoot  vBot  \\\n",
       "HYDRUS_datetime_vec                                                       \n",
       "2020-10-01 01:00:00   1.0   0.0  0.000000  0.000000e+00  0.000000   0.0   \n",
       "2020-10-01 02:00:00   2.0   0.0  0.000000  0.000000e+00  0.000000   0.0   \n",
       "2020-10-01 03:00:00   3.0   0.0  0.000000  0.000000e+00  0.000000   0.0   \n",
       "2020-10-01 04:00:00   4.0   0.0  0.000000  0.000000e+00  0.000000   0.0   \n",
       "2020-10-01 05:00:00   5.0   0.0  0.000002 -7.264200e-09  0.000002   0.0   \n",
       "\n",
       "                     sum(rTop  )   sum(rRoot  )    sum(vTop  )   sum(vRoot  \\\n",
       "HYDRUS_datetime_vec                                                          \n",
       "2020-10-01 01:00:00       0.0       0.000000   0.000000e+00       0.000000   \n",
       "2020-10-01 02:00:00       0.0       0.000000   0.000000e+00       0.000000   \n",
       "2020-10-01 03:00:00       0.0       0.000000   0.000000e+00       0.000000   \n",
       "2020-10-01 04:00:00       0.0       0.000000   0.000000e+00       0.000000   \n",
       "2020-10-01 05:00:00       0.0       0.000002  -7.264200e-09       0.000002   \n",
       "\n",
       "                     ...   hRoot  hBot  RunOff  sum(RunOff  )     Volume  \\\n",
       "HYDRUS_datetime_vec  ...                                                   \n",
       "2020-10-01 01:00:00  ... -190.25   0.0     0.0         0.0        53.678   \n",
       "2020-10-01 02:00:00  ... -190.25   0.0     0.0         0.0        53.678   \n",
       "2020-10-01 03:00:00  ... -190.25   0.0     0.0         0.0        53.678   \n",
       "2020-10-01 04:00:00  ... -190.25   0.0     0.0         0.0        53.678   \n",
       "2020-10-01 05:00:00  ... -190.25   0.0     0.0         0.0        53.678   \n",
       "\n",
       "                     sum(Infil  )    sum(Evap  ) TLevel Cum(  WTrans)  Snow  \\\n",
       "HYDRUS_datetime_vec                                                           \n",
       "2020-10-01 01:00:00        0.0            0.0        1  0.00            0.0   \n",
       "2020-10-01 02:00:00        0.0            0.0        2  0.00            0.0   \n",
       "2020-10-01 03:00:00        0.0            0.0        3  0.00            0.0   \n",
       "2020-10-01 04:00:00        0.0            0.0        4  0.00            0.0   \n",
       "2020-10-01 05:00:00        0.0            0.0        5  0.00            0.0   \n",
       "\n",
       "                    Layer  \n",
       "HYDRUS_datetime_vec        \n",
       "2020-10-01 01:00:00   0.0  \n",
       "2020-10-01 02:00:00   0.0  \n",
       "2020-10-01 03:00:00   0.0  \n",
       "2020-10-01 04:00:00   0.0  \n",
       "2020-10-01 05:00:00   0.0  \n",
       "\n",
       "[5 rows x 22 columns]"
      ]
     },
     "execution_count": 137,
     "metadata": {},
     "output_type": "execute_result"
    }
   ],
   "source": [
    "\n",
    "# HYDRUS_output = HYDRUS_output.resample('3600s').pad()\n",
    "\n",
    "HYDRUS_output.head()"
   ]
  },
  {
   "cell_type": "code",
   "execution_count": 138,
   "id": "c698afc1",
   "metadata": {},
   "outputs": [
    {
     "data": {
      "text/plain": [
       "8760"
      ]
     },
     "execution_count": 138,
     "metadata": {},
     "output_type": "execute_result"
    }
   ],
   "source": [
    "len(HYDRUS_output)"
   ]
  },
  {
   "cell_type": "code",
   "execution_count": 139,
   "id": "6db43eeb",
   "metadata": {},
   "outputs": [
    {
     "name": "stdout",
     "output_type": "stream",
     "text": [
      "0       0.000000e+00\n",
      "1      -1.233900e-09\n",
      "2      -2.447200e-09\n",
      "3      -3.640200e-09\n",
      "4      -4.813300e-09\n",
      "            ...     \n",
      "8755   -7.790518e-02\n",
      "8756   -7.791164e-02\n",
      "8757   -7.791809e-02\n",
      "8758   -7.792454e-02\n",
      "8759   -7.793100e-02\n",
      "Name: percolation, Length: 8760, dtype: float64\n"
     ]
    },
    {
     "data": {
      "image/png": "[encoded data removed]",
      "text/plain": [
       "<Figure size 720x576 with 6 Axes>"
      ]
     },
     "metadata": {},
     "output_type": "display_data"
    }
   ],
   "source": [
    "\n",
    "\n",
    "\n",
    "#%matplotlib qt\n",
    "fig, axs = plt.subplots(3,2, figsize=(10,8), facecolor='w', edgecolor='k',gridspec_kw={'width_ratios':[1,1]})\n",
    "fig.subplots_adjust(hspace =.02, wspace=1.02)\n",
    "plt.tight_layout()\n",
    "axs = axs.ravel()\n",
    "\n",
    "vars_bmi = ['soil_storage', 'surface_runoff', 'infiltration', 'actual_evapotranspiration', 'mass_balance', 'percolation']\n",
    "vars_hydrus = [')     Volume', 'sum(RunOff', 'sum(Infil', ')   sum(vRoot', ')    sum(vBot']\n",
    "m_to_mm = 1000\n",
    "m_to_cm = 100\n",
    "timestep = 300/3600\n",
    "y_labels = ['Storage (cm)', 'Runoff (cm)', 'Infiltration (cm)', 'Actual ET (cm)', 'Mass balance (cm)', 'Recharge (cm)']\n",
    "\n",
    "for i in range(len(y_labels)):\n",
    "    if i == 0:\n",
    "        if i == 0:\n",
    "            axs[i].plot(times_bmi, data_c_vars[vars_bmi[i]]*m_to_cm,'b',linestyle='dashed',label='C (bmi)')\n",
    "            axs[i].plot(HYDRUS_output[vars_hydrus[i]],'k',linestyle='dashed',label='Hydrus',color='orange')\n",
    "        else:\n",
    "            hyd = []\n",
    "            for t,v1 in zip(HYDRUS_output['Time'], HYDRUS_output[vars_hydrus[0]]):\n",
    "                if t % 5.0 == 0:\n",
    "                    hyd.append(v1)\n",
    "            hyd_c_diff = []\n",
    "\n",
    "            #hydrus output data does not include t=0 data\n",
    "            for v2, v3 in zip(np.array(hyd),np.array(data_c_vars[vars_bmi[0]]*m_to_cm)[1:]):\n",
    "                hyd_c_diff.append(abs(v2-v3))\n",
    "\n",
    "            axs[i].legend()\n",
    "        \n",
    "    elif (i < len(vars_hydrus)-1):\n",
    "        if i == 1 or i == 2 or i ==3 : \n",
    "            \n",
    "            axs[i].plot(times_bmi, np.cumsum(data_c_vars[vars_bmi[i]]*m_to_cm),'blue',linestyle='dotted',label='C (bmi)')  \n",
    "            axs[i].plot(HYDRUS_output[vars_hydrus[i]],'k',linestyle='dashed',label='Hydrus',color='orange')\n",
    "        if i==4:\n",
    "            axs[i].plot(times_bmi, np.cumsum(data_c_vars[vars_bmi[i]]*m_to_cm),'blue',linestyle='dotted',label='C (bmi)')\n",
    "            axs[4].axis(ymin=-1,ymax=1)\n",
    "    elif (i==4):\n",
    "        axs[i].plot(times_bmi, np.cumsum(data_c_vars[vars_bmi[i]]*m_to_cm),'blue',linestyle='dotted',label='C (bmi)')\n",
    "        axs[5].plot(-1*HYDRUS_output[vars_hydrus[i]],'k',linestyle='dashed',label='Hydrus',color='orange')\n",
    "        axs[5].axis(ymin=-3,ymax=3)\n",
    "        print(np.cumsum(data_c_vars[vars_bmi[5]]*m_to_cm))\n",
    "    else:\n",
    "        axs[i].plot(times_bmi, np.cumsum(data_c_vars[vars_bmi[i]]*m_to_cm),'b',linestyle='dotted',label='C (bmi)')\n",
    "\n",
    "            \n",
    "    axs[i].set_ylabel(y_labels[i],fontsize=12)\n",
    "    \n",
    "    if i >2:\n",
    "        axs[i].set_xlabel('Time [m/d/h]',fontsize=12)\n",
    "    axs[i].tick_params(axis='x', labelsize=12,rotation=0)\n",
    "    axs[i].tick_params(axis='y', labelsize=12,rotation=0)\n",
    "    axs[i].xaxis.set_major_formatter(xfmt)\n",
    "    axs[i].xaxis.set_major_locator(mdates.MonthLocator(interval=4))\n",
    "    \n",
    "    axs[i].set_xlim(times_bmi[0], times_bmi[-1])\n",
    "axs[0].legend()\n",
    "plt.tight_layout()\n",
    "\n",
    "if (save_outfile):\n",
    "    plt.savefig(outfile,dpi=400)\n"
   ]
  },
  {
   "cell_type": "code",
   "execution_count": null,
   "id": "da54f973",
   "metadata": {},
   "outputs": [],
   "source": []
  },
  {
   "cell_type": "code",
   "execution_count": 140,
   "id": "a2c53bdb",
   "metadata": {},
   "outputs": [
    {
     "data": {
      "image/png": "[encoded data removed]",
      "text/plain": [
       "<Figure size 432x288 with 1 Axes>"
      ]
     },
     "metadata": {},
     "output_type": "display_data"
    }
   ],
   "source": [
    "import matplotlib as mpl\n",
    "mpl.rcParams['figure.facecolor'] = 'white'\n",
    "\n",
    "plt.plot(times_bmi, np.cumsum(data_c_vars[vars_bmi[1]]*m_to_cm),'b',label='C (bmi)',color='orange')\n",
    "plt.plot(HYDRUS_output[vars_hydrus[1]],'k',linestyle='dashed',label='Hydrus',color='orange')\n",
    "\n",
    "plt.plot(times_bmi, np.cumsum(data_c_vars[vars_bmi[2]]*m_to_cm),'b',label='C (bmi)',color='blue')\n",
    "plt.plot(HYDRUS_output[vars_hydrus[2]],'k',linestyle='dashed',label='Hydrus',color='blue')\n",
    "\n",
    "plt.plot(times_bmi, np.cumsum(data_c_vars[vars_bmi[3]]*m_to_cm),'b',label='C (bmi)',color='green')\n",
    "plt.plot(HYDRUS_output[vars_hydrus[3]],'k',linestyle='dashed',label='Hydrus',color='green')\n",
    "\n",
    "plt.plot(times_bmi, np.cumsum(data_c_vars[vars_bmi[5]]*m_to_cm),'b',label='C (bmi)',color='purple')\n",
    "plt.plot(-1*HYDRUS_output[vars_hydrus[4]],'k',linestyle='dashed',label='Hydrus',color='purple')\n",
    "\n",
    "leg = plt.legend()#(handles=[runoff_line_HYDRUS,runoff_line_HYDRUS,runoff_line_HYDRUS,runoff_line_HYDRUS],labels=[\"LGARTO\", \"HYDRUS\", \"theta_e\", \"capillary head = -depth\"])\n",
    "\n",
    "mylabels = ['LGARTO runoff','HYDRUS runoff','LGARTO infiltration','HYDRUS infiltration','LGARTO AET','HYDRUS AET','LGARTO recharge','HYDRUS recharge']\n",
    "\n",
    "plt.legend(labels=mylabels)\n",
    "\n",
    "plt.text(x=times_bmi[5500], y=20, s='Geneva, NY', fontsize = 16)\n",
    "\n",
    "plt.ylabel(\"cumulative flux (cm)\",fontsize=16)\n",
    "plt.xlabel(\"date\",fontsize=16)\n",
    "\n",
    "# plt.vlines(times_bmi[3000], 0, 80, colors =\"red\")\n",
    "\n",
    "if (save_outfile):\n",
    "    plt.savefig(outfile_summpary_plot,dpi=400)"
   ]
  },
  {
   "cell_type": "code",
   "execution_count": 141,
   "id": "e593e93c",
   "metadata": {},
   "outputs": [
    {
     "name": "stdout",
     "output_type": "stream",
     "text": [
      "KGE in runoff: \n",
      "0.837811603651269\n",
      "NSE in runoff: \n",
      "0.877903822983634\n",
      "percent bias in runoff: \n",
      "14.563638869093232\n",
      "RMSE in runoff (cm/h): \n",
      "0.006345911488355209\n",
      "cumulative runoff for LGARTO (cm): \n",
      "5.155742648805701\n",
      "cumulative runoff for HYDRUS (cm): \n",
      "6.0346\n",
      "difference (cm): \n",
      "0.8788573511942994\n"
     ]
    }
   ],
   "source": [
    "runoff_LGARTO = data_c_vars[vars_bmi[1]]*m_to_cm\n",
    "\n",
    "runoff_HYDRUS = [0.0]\n",
    "for i in range(1,len(HYDRUS_output)):\n",
    "    runoff_HYDRUS.append(HYDRUS_output['sum(RunOff'][i] - HYDRUS_output['sum(RunOff'][i-1])\n",
    "\n",
    "print(\"KGE in runoff: \")\n",
    "print(hydroeval.kge(np.array(runoff_LGARTO), np.array(runoff_HYDRUS))[0][0])\n",
    "\n",
    "print(\"NSE in runoff: \")\n",
    "print(hydroeval.nse(np.array(runoff_LGARTO), np.array(runoff_HYDRUS)))\n",
    "\n",
    "print(\"percent bias in runoff: \")\n",
    "print(hydroeval.pbias(np.array(runoff_LGARTO), np.array(runoff_HYDRUS)))\n",
    "\n",
    "print(\"RMSE in runoff (cm/h): \")\n",
    "print(hydroeval.rmse(np.array(runoff_LGARTO), np.array(runoff_HYDRUS)))\n",
    "\n",
    "print(\"cumulative runoff for LGARTO (cm): \")\n",
    "print(np.sum(runoff_LGARTO))\n",
    "\n",
    "print(\"cumulative runoff for HYDRUS (cm): \")\n",
    "print(np.sum(runoff_HYDRUS))\n",
    "\n",
    "print(\"difference (cm): \")\n",
    "print(np.sum(runoff_HYDRUS) - np.sum(runoff_LGARTO))"
   ]
  },
  {
   "cell_type": "code",
   "execution_count": 142,
   "id": "aadb9558",
   "metadata": {},
   "outputs": [
    {
     "data": {
      "text/plain": [
       "True"
      ]
     },
     "execution_count": 142,
     "metadata": {},
     "output_type": "execute_result"
    }
   ],
   "source": [
    "np.sum(runoff_HYDRUS) == HYDRUS_output['sum(RunOff'][-1]"
   ]
  },
  {
   "cell_type": "code",
   "execution_count": 143,
   "id": "bc134747",
   "metadata": {},
   "outputs": [
    {
     "name": "stdout",
     "output_type": "stream",
     "text": [
      "KGE in infiltration: \n",
      "0.9844393693147659\n",
      "NSE in infiltration: \n",
      "0.9855279088774429\n",
      "percent bias in infiltration: \n",
      "-1.0965151530038773\n",
      "RMSE in infiltration (cm/h): \n",
      "0.006348775227536284\n",
      "cumulative infiltration for LGARTO (cm): \n",
      "81.1026573511943\n",
      "cumulative infiltration for HYDRUS (cm): \n",
      "80.223\n",
      "difference (cm): \n",
      "-0.8796573511942967\n"
     ]
    }
   ],
   "source": [
    "infil_LGARTO = data_c_vars[vars_bmi[2]]*m_to_cm\n",
    "infil_HYDRUS = HYDRUS_output['sum(Infil']#[1:]\n",
    "\n",
    "infil_HYDRUS = np.array(infil_HYDRUS)\n",
    "infil_HYDRUS_cumulative = HYDRUS_output['sum(Infil']#[1:]\n",
    "\n",
    "i=0\n",
    "for item in infil_HYDRUS:\n",
    "#     print(item)\n",
    "    if (i==0):\n",
    "        item = item\n",
    "    else:\n",
    "        item = item - infil_HYDRUS_cumulative[i-1]\n",
    "    infil_HYDRUS[i] = item\n",
    "    i = i + 1\n",
    "    \n",
    "        \n",
    "print(\"KGE in infiltration: \")\n",
    "print(hydroeval.kge(np.array(infil_LGARTO), np.array(infil_HYDRUS))[0][0])\n",
    "\n",
    "print(\"NSE in infiltration: \")\n",
    "print(hydroeval.nse(np.array(infil_LGARTO), np.array(infil_HYDRUS)))\n",
    "\n",
    "print(\"percent bias in infiltration: \")\n",
    "print(hydroeval.pbias(np.array(infil_LGARTO), np.array(infil_HYDRUS)))\n",
    "\n",
    "print(\"RMSE in infiltration (cm/h): \")\n",
    "print(hydroeval.rmse(np.array(infil_LGARTO), np.array(infil_HYDRUS)))\n",
    "\n",
    "print(\"cumulative infiltration for LGARTO (cm): \")\n",
    "print(np.sum(infil_LGARTO))\n",
    "\n",
    "print(\"cumulative infiltration for HYDRUS (cm): \")\n",
    "print(np.sum(infil_HYDRUS))\n",
    "\n",
    "print(\"difference (cm): \")\n",
    "print(np.sum(infil_HYDRUS) - np.sum(infil_LGARTO))"
   ]
  },
  {
   "cell_type": "code",
   "execution_count": 144,
   "id": "142e8c29",
   "metadata": {},
   "outputs": [
    {
     "data": {
      "text/plain": [
       "True"
      ]
     },
     "execution_count": 144,
     "metadata": {},
     "output_type": "execute_result"
    }
   ],
   "source": [
    "np.sum(infil_HYDRUS) == HYDRUS_output['sum(Infil'][-1]"
   ]
  },
  {
   "cell_type": "code",
   "execution_count": null,
   "id": "a193926a",
   "metadata": {},
   "outputs": [],
   "source": []
  },
  {
   "cell_type": "code",
   "execution_count": 145,
   "id": "ee538f66",
   "metadata": {},
   "outputs": [
    {
     "name": "stdout",
     "output_type": "stream",
     "text": [
      "KGE in AET: \n",
      "0.938658678445491\n",
      "NSE in AET: \n",
      "0.98752243110546\n",
      "percent bias in AET: \n",
      "4.687867794835605\n",
      "RMSE in AET (cm/h): \n",
      "0.0018125082594072632\n",
      "cumulative AET for LGARTO (cm): \n",
      "83.3418815215178\n",
      "cumulative AET for HYDRUS (cm): \n",
      "87.441\n",
      "difference (cm): \n",
      "4.099118478482197\n"
     ]
    }
   ],
   "source": [
    "AET_LGARTO = data_c_vars[vars_bmi[3]]*m_to_cm\n",
    "# HYDRUS_output['vRoot'][0]=0.0\n",
    "# AET_HYDRUS = HYDRUS_output['vRoot'][1:]\n",
    "AET_HYDRUS = [0.0]\n",
    "for i in range(1,len(HYDRUS_output)):\n",
    "    AET_HYDRUS.append(HYDRUS_output[')   sum(vRoot'][i] - HYDRUS_output[')   sum(vRoot'][i-1])\n",
    "\n",
    "HYDRUS_output[')   sum(vRoot'][-1] == np.sum(AET_HYDRUS)\n",
    "    \n",
    "print(\"KGE in AET: \")\n",
    "print(hydroeval.kge(np.array(AET_LGARTO), np.array(AET_HYDRUS))[0][0])\n",
    "\n",
    "print(\"NSE in AET: \")\n",
    "print(hydroeval.nse(np.array(AET_LGARTO), np.array(AET_HYDRUS)))\n",
    "\n",
    "print(\"percent bias in AET: \")\n",
    "print(hydroeval.pbias(np.array(AET_LGARTO), np.array(AET_HYDRUS)))\n",
    "\n",
    "print(\"RMSE in AET (cm/h): \")\n",
    "print(hydroeval.rmse(np.array(AET_LGARTO), np.array(AET_HYDRUS)))\n",
    "\n",
    "print(\"cumulative AET for LGARTO (cm): \")\n",
    "print(np.sum(AET_LGARTO))\n",
    "\n",
    "print(\"cumulative AET for HYDRUS (cm): \")\n",
    "print(np.sum(AET_HYDRUS))\n",
    "\n",
    "print(\"difference (cm): \")\n",
    "print(np.sum(AET_HYDRUS) - np.sum(AET_LGARTO))"
   ]
  },
  {
   "cell_type": "code",
   "execution_count": 146,
   "id": "590ef4d3",
   "metadata": {},
   "outputs": [
    {
     "data": {
      "text/plain": [
       "True"
      ]
     },
     "execution_count": 146,
     "metadata": {},
     "output_type": "execute_result"
    }
   ],
   "source": [
    "np.sum(AET_HYDRUS) == HYDRUS_output[')   sum(vRoot'][-1]"
   ]
  },
  {
   "cell_type": "code",
   "execution_count": 147,
   "id": "5c09aa0e",
   "metadata": {},
   "outputs": [
    {
     "name": "stdout",
     "output_type": "stream",
     "text": [
      "KGE in recharge: \n",
      "-0.436961849274504\n",
      "NSE in recharge: \n",
      "-1.0514022923668263\n",
      "percent bias in recharge: \n",
      "91.87661706104265\n",
      "RMSE in recharge (cm/h): \n",
      "0.0001651003151343045\n",
      "cumulative recharge for LGARTO (cm): \n",
      "-0.0779309991214\n",
      "cumulative recharge for HYDRUS (cm): \n",
      "-0.95934168938\n",
      "difference (cm): \n",
      "-0.8814106902586\n"
     ]
    }
   ],
   "source": [
    "rch_LGARTO = data_c_vars[vars_bmi[5]]*m_to_cm\n",
    "rch_HYDRUS = -1*HYDRUS_output['vBot']\n",
    "\n",
    "print(\"KGE in recharge: \")\n",
    "print(hydroeval.kge(np.array(rch_LGARTO), np.array(rch_HYDRUS))[0][0])\n",
    "\n",
    "print(\"NSE in recharge: \")\n",
    "print(hydroeval.nse(np.array(rch_LGARTO), np.array(rch_HYDRUS)))\n",
    "\n",
    "print(\"percent bias in recharge: \")\n",
    "print(hydroeval.pbias(np.array(rch_LGARTO), np.array(rch_HYDRUS)))\n",
    "\n",
    "print(\"RMSE in recharge (cm/h): \")\n",
    "print(hydroeval.rmse(np.array(rch_LGARTO), np.array(rch_HYDRUS)))\n",
    "\n",
    "print(\"cumulative recharge for LGARTO (cm): \")\n",
    "print(np.sum(rch_LGARTO))\n",
    "\n",
    "print(\"cumulative recharge for HYDRUS (cm): \")\n",
    "print(np.sum(rch_HYDRUS))\n",
    "\n",
    "print(\"difference (cm): \")\n",
    "print(np.sum(rch_HYDRUS) - np.sum(rch_LGARTO))\n"
   ]
  },
  {
   "cell_type": "code",
   "execution_count": 148,
   "id": "743aefc1",
   "metadata": {},
   "outputs": [
    {
     "data": {
      "text/plain": [
       "True"
      ]
     },
     "execution_count": 148,
     "metadata": {},
     "output_type": "execute_result"
    }
   ],
   "source": [
    "abs(np.sum(rch_HYDRUS) - -1*HYDRUS_output[')    sum(vBot'][-1]) < 0.001"
   ]
  },
  {
   "cell_type": "code",
   "execution_count": 149,
   "id": "394d85a6",
   "metadata": {},
   "outputs": [
    {
     "name": "stdout",
     "output_type": "stream",
     "text": [
      "KGE in cumulative recharge: \n",
      "-0.26872439422694416\n",
      "NSE in cumulative recharge: \n",
      "-1.237382640884999\n",
      "percent bias in cumulative recharge: \n",
      "87.241648332011\n",
      "RMSE in cumulative recharge (cm): \n",
      "0.38122068841059287\n"
     ]
    }
   ],
   "source": [
    "rch_HYDRUS=np.array(rch_HYDRUS)\n",
    "rch_LGARTO=np.array(rch_LGARTO)\n",
    "\n",
    "rch_HYDRUS_ind=np.array(rch_HYDRUS)\n",
    "rch_LGARTO_ind=np.array(rch_LGARTO)\n",
    "\n",
    "i = 0\n",
    "for _ in rch_HYDRUS:\n",
    "    if i>0:\n",
    "        rch_HYDRUS[i] = np.sum(rch_HYDRUS_ind[0:i])\n",
    "        rch_LGARTO[i] = np.sum(rch_LGARTO_ind[0:i])\n",
    "    i=i+1\n",
    "\n",
    "# plt.plot(rch_LGARTO)\n",
    "# plt.plot(rch_HYDRUS)\n",
    "\n",
    "print(\"KGE in cumulative recharge: \")\n",
    "print(hydroeval.kge(np.array(rch_LGARTO), np.array(rch_HYDRUS))[0][0])\n",
    "\n",
    "print(\"NSE in cumulative recharge: \")\n",
    "print(hydroeval.nse(np.array(rch_LGARTO), np.array(rch_HYDRUS)))\n",
    "\n",
    "print(\"percent bias in cumulative recharge: \")\n",
    "print(hydroeval.pbias(np.array(rch_LGARTO), np.array(rch_HYDRUS)))\n",
    "\n",
    "print(\"RMSE in cumulative recharge (cm): \")\n",
    "print(hydroeval.rmse(np.array(rch_LGARTO), np.array(rch_HYDRUS)))\n",
    "\n",
    "\n"
   ]
  },
  {
   "cell_type": "code",
   "execution_count": null,
   "id": "2df3be1e",
   "metadata": {},
   "outputs": [],
   "source": []
  },
  {
   "cell_type": "code",
   "execution_count": null,
   "id": "a8893b57",
   "metadata": {},
   "outputs": [],
   "source": []
  },
  {
   "cell_type": "code",
   "execution_count": null,
   "id": "bb502b40",
   "metadata": {},
   "outputs": [],
   "source": []
  },
  {
   "cell_type": "code",
   "execution_count": null,
   "id": "85ad2b70",
   "metadata": {},
   "outputs": [],
   "source": []
  }
 ],
 "metadata": {
  "kernelspec": {
   "display_name": "Python 3",
   "language": "python",
   "name": "python3"
  },
  "language_info": {
   "codemirror_mode": {
    "name": "ipython",
    "version": 3
   },
   "file_extension": ".py",
   "mimetype": "text/x-python",
   "name": "python",
   "nbconvert_exporter": "python",
   "pygments_lexer": "ipython3",
   "version": "3.8.8"
  }
 },
 "nbformat": 4,
 "nbformat_minor": 5
}
