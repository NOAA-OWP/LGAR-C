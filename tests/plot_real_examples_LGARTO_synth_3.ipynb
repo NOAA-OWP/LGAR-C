{
 "cells": [
  {
   "cell_type": "code",
   "execution_count": null,
   "id": "424f2e61",
   "metadata": {},
   "outputs": [],
   "source": []
  },
  {
   "cell_type": "markdown",
   "id": "aed94620",
   "metadata": {},
   "source": [
    "### Compares LGARTO (C) real examples against Hydrus\n",
    "### Date: 23 October 2024 (last updated)\n",
    "### Peter La Follette"
   ]
  },
  {
   "cell_type": "code",
   "execution_count": 337,
   "id": "7cb19bfb",
   "metadata": {},
   "outputs": [],
   "source": [
    "synth_case = 3 #should be 1, 2, 3, or 4"
   ]
  },
  {
   "cell_type": "code",
   "execution_count": 338,
   "id": "b9051df0",
   "metadata": {},
   "outputs": [],
   "source": [
    "import numpy as np\n",
    "from matplotlib import pyplot as plt\n",
    "import sys, os\n",
    "import importlib as imp\n",
    "import copy\n",
    "import pandas as pd\n",
    "import datetime as dt\n",
    "import hydroeval\n",
    "\n",
    "from mpl_toolkits.axes_grid1.inset_locator import zoomed_inset_axes\n",
    "from mpl_toolkits.axes_grid1.inset_locator import mark_inset\n",
    "import matplotlib.dates as mdates\n",
    "\n",
    "import pickle"
   ]
  },
  {
   "cell_type": "code",
   "execution_count": 339,
   "id": "3a9f5ba8",
   "metadata": {},
   "outputs": [],
   "source": [
    "# C version\n",
    "sim_case = 'outputs/synthetic'+str(synth_case)+'_LGARTO/data_variables.csv' \n",
    "c_path_vars = sim_case\n",
    "\n",
    "outfile = \"c-hydrus-comparison_synth_\"+str(synth_case)+\"_LGARTO.png\"\n",
    "outfile_summpary_plot = \"c-hydrus-comparison_synth_\" + str(synth_case) + \"_LGARTO_summary.png\"\n",
    "\n",
    "save_outfile = True"
   ]
  },
  {
   "cell_type": "code",
   "execution_count": null,
   "id": "5b1e2e22",
   "metadata": {},
   "outputs": [],
   "source": []
  },
  {
   "cell_type": "code",
   "execution_count": 340,
   "id": "8f509cf8",
   "metadata": {},
   "outputs": [],
   "source": [
    "num_steps = 72*12\n",
    "    \n",
    "start = pd.Timestamp(\"2016-10-01 00:00:00\")\n",
    "end = pd.Timestamp(\"2016-10-04 00:00:00\")\n",
    "times = pd.date_range(start=start,end=end, periods=num_steps) #freq='min'\n",
    "times_bmi = pd.date_range(start=start,end=end, periods=num_steps)\n",
    "\n",
    "xfmt = mdates.DateFormatter('%Y/%m/%d')\n"
   ]
  },
  {
   "cell_type": "code",
   "execution_count": 341,
   "id": "519cf227",
   "metadata": {},
   "outputs": [
    {
     "data": {
      "text/html": [
       "<div>\n",
       "<style scoped>\n",
       "    .dataframe tbody tr th:only-of-type {\n",
       "        vertical-align: middle;\n",
       "    }\n",
       "\n",
       "    .dataframe tbody tr th {\n",
       "        vertical-align: top;\n",
       "    }\n",
       "\n",
       "    .dataframe thead th {\n",
       "        text-align: right;\n",
       "    }\n",
       "</style>\n",
       "<table border=\"1\" class=\"dataframe\">\n",
       "  <thead>\n",
       "    <tr style=\"text-align: right;\">\n",
       "      <th></th>\n",
       "      <th>Time</th>\n",
       "      <th>precipitation</th>\n",
       "      <th>potential_evapotranspiration</th>\n",
       "      <th>actual_evapotranspiration</th>\n",
       "      <th>surface_runoff</th>\n",
       "      <th>giuh_runoff</th>\n",
       "      <th>soil_storage</th>\n",
       "      <th>total_discharge</th>\n",
       "      <th>infiltration</th>\n",
       "      <th>percolation</th>\n",
       "      <th>groundwater_to_stream_recharge</th>\n",
       "      <th>mass_balance</th>\n",
       "    </tr>\n",
       "  </thead>\n",
       "  <tbody>\n",
       "    <tr>\n",
       "      <th>0</th>\n",
       "      <td>2016-10-01 00:00:00</td>\n",
       "      <td>0.0</td>\n",
       "      <td>0.0</td>\n",
       "      <td>0.0</td>\n",
       "      <td>0.0</td>\n",
       "      <td>0.0</td>\n",
       "      <td>0.352245</td>\n",
       "      <td>0.0</td>\n",
       "      <td>0.0</td>\n",
       "      <td>0.000000e+00</td>\n",
       "      <td>0.0</td>\n",
       "      <td>0.0</td>\n",
       "    </tr>\n",
       "    <tr>\n",
       "      <th>1</th>\n",
       "      <td>2016-10-01 00:05:00</td>\n",
       "      <td>0.0</td>\n",
       "      <td>0.0</td>\n",
       "      <td>0.0</td>\n",
       "      <td>0.0</td>\n",
       "      <td>0.0</td>\n",
       "      <td>0.352245</td>\n",
       "      <td>0.0</td>\n",
       "      <td>0.0</td>\n",
       "      <td>-3.868000e-12</td>\n",
       "      <td>0.0</td>\n",
       "      <td>-0.0</td>\n",
       "    </tr>\n",
       "    <tr>\n",
       "      <th>2</th>\n",
       "      <td>2016-10-01 00:10:00</td>\n",
       "      <td>0.0</td>\n",
       "      <td>0.0</td>\n",
       "      <td>0.0</td>\n",
       "      <td>0.0</td>\n",
       "      <td>0.0</td>\n",
       "      <td>0.352245</td>\n",
       "      <td>0.0</td>\n",
       "      <td>0.0</td>\n",
       "      <td>-3.607000e-12</td>\n",
       "      <td>0.0</td>\n",
       "      <td>0.0</td>\n",
       "    </tr>\n",
       "    <tr>\n",
       "      <th>3</th>\n",
       "      <td>2016-10-01 00:15:00</td>\n",
       "      <td>0.0</td>\n",
       "      <td>0.0</td>\n",
       "      <td>0.0</td>\n",
       "      <td>0.0</td>\n",
       "      <td>0.0</td>\n",
       "      <td>0.352245</td>\n",
       "      <td>0.0</td>\n",
       "      <td>0.0</td>\n",
       "      <td>-3.369000e-12</td>\n",
       "      <td>0.0</td>\n",
       "      <td>-0.0</td>\n",
       "    </tr>\n",
       "    <tr>\n",
       "      <th>4</th>\n",
       "      <td>2016-10-01 00:20:00</td>\n",
       "      <td>0.0</td>\n",
       "      <td>0.0</td>\n",
       "      <td>0.0</td>\n",
       "      <td>0.0</td>\n",
       "      <td>0.0</td>\n",
       "      <td>0.352245</td>\n",
       "      <td>0.0</td>\n",
       "      <td>0.0</td>\n",
       "      <td>-3.152000e-12</td>\n",
       "      <td>0.0</td>\n",
       "      <td>-0.0</td>\n",
       "    </tr>\n",
       "  </tbody>\n",
       "</table>\n",
       "</div>"
      ],
      "text/plain": [
       "                  Time  precipitation  potential_evapotranspiration  \\\n",
       "0  2016-10-01 00:00:00            0.0                           0.0   \n",
       "1  2016-10-01 00:05:00            0.0                           0.0   \n",
       "2  2016-10-01 00:10:00            0.0                           0.0   \n",
       "3  2016-10-01 00:15:00            0.0                           0.0   \n",
       "4  2016-10-01 00:20:00            0.0                           0.0   \n",
       "\n",
       "   actual_evapotranspiration  surface_runoff  giuh_runoff  soil_storage  \\\n",
       "0                        0.0             0.0          0.0      0.352245   \n",
       "1                        0.0             0.0          0.0      0.352245   \n",
       "2                        0.0             0.0          0.0      0.352245   \n",
       "3                        0.0             0.0          0.0      0.352245   \n",
       "4                        0.0             0.0          0.0      0.352245   \n",
       "\n",
       "   total_discharge  infiltration   percolation  \\\n",
       "0              0.0           0.0  0.000000e+00   \n",
       "1              0.0           0.0 -3.868000e-12   \n",
       "2              0.0           0.0 -3.607000e-12   \n",
       "3              0.0           0.0 -3.369000e-12   \n",
       "4              0.0           0.0 -3.152000e-12   \n",
       "\n",
       "   groundwater_to_stream_recharge  mass_balance  \n",
       "0                             0.0           0.0  \n",
       "1                             0.0          -0.0  \n",
       "2                             0.0           0.0  \n",
       "3                             0.0          -0.0  \n",
       "4                             0.0          -0.0  "
      ]
     },
     "execution_count": 341,
     "metadata": {},
     "output_type": "execute_result"
    }
   ],
   "source": [
    "data_c_vars = pd.read_csv(c_path_vars)\n",
    "data_c_vars = data_c_vars[0:num_steps]\n",
    "data_c_vars.head()"
   ]
  },
  {
   "cell_type": "code",
   "execution_count": 342,
   "id": "636fdb61",
   "metadata": {},
   "outputs": [],
   "source": [
    "m_to_mm = 1000\n"
   ]
  },
  {
   "cell_type": "markdown",
   "id": "6a1a09f9",
   "metadata": {},
   "source": [
    "### Read Hydrus data"
   ]
  },
  {
   "cell_type": "code",
   "execution_count": 343,
   "id": "ae2f77de",
   "metadata": {},
   "outputs": [],
   "source": [
    "\n",
    "hyd_path = 'HYDRUS_outputs/synth_'+str(synth_case)+'_LGARTO/T_Level_synth_'+str(synth_case)+'_LGARTO.txt'\n",
    "\n",
    "HYDRUS_output = pd.read_fwf(hyd_path,widths=[13,13,13,13,13,13,13,13,13,13,13,13,13,13,13,13,13,13,13,13,13,13])            \n",
    "HYDRUS_datetime_vec = []\n",
    "i=0\n",
    "prior_dt = dt.datetime.strptime(data_c_vars['Time'][0],'%Y-%m-%d %H:%M:%S') + dt.timedelta(hours=HYDRUS_output['Time'][i]-1)\n",
    "for i in range(0,len(HYDRUS_output['Time'])):\n",
    "    current_dt = dt.datetime.strptime(data_c_vars['Time'][0],'%Y-%m-%d %H:%M:%S') + dt.timedelta(hours=HYDRUS_output['Time'][i])\n",
    "    if (current_dt!=prior_dt):\n",
    "        HYDRUS_datetime_vec.append(current_dt)\n",
    "    else:\n",
    "        HYDRUS_output = HYDRUS_output.drop(i)\n",
    "    prior_dt = current_dt\n",
    "HYDRUS_output['HYDRUS_datetime_vec'] = HYDRUS_datetime_vec\n",
    "HYDRUS_output = HYDRUS_output.set_index('HYDRUS_datetime_vec')\n",
    "\n",
    "# HYDRUS_output = HYDRUS_output.resample('300s').pad()\n"
   ]
  },
  {
   "cell_type": "code",
   "execution_count": 344,
   "id": "93f5d82f",
   "metadata": {},
   "outputs": [
    {
     "data": {
      "text/plain": [
       "864"
      ]
     },
     "execution_count": 344,
     "metadata": {},
     "output_type": "execute_result"
    }
   ],
   "source": [
    "len(HYDRUS_output)\n",
    "\n",
    "# HYDRUS_output = HYDRUS_output[1:]"
   ]
  },
  {
   "cell_type": "code",
   "execution_count": null,
   "id": "88ec5072",
   "metadata": {},
   "outputs": [],
   "source": []
  },
  {
   "cell_type": "code",
   "execution_count": 345,
   "id": "ea611ca7",
   "metadata": {},
   "outputs": [
    {
     "data": {
      "text/plain": [
       "864"
      ]
     },
     "execution_count": 345,
     "metadata": {},
     "output_type": "execute_result"
    }
   ],
   "source": [
    "len(HYDRUS_output)"
   ]
  },
  {
   "cell_type": "code",
   "execution_count": null,
   "id": "7388195e",
   "metadata": {},
   "outputs": [],
   "source": []
  },
  {
   "cell_type": "code",
   "execution_count": null,
   "id": "669b41d4",
   "metadata": {},
   "outputs": [],
   "source": []
  },
  {
   "cell_type": "code",
   "execution_count": 346,
   "id": "9d3645b4",
   "metadata": {},
   "outputs": [
    {
     "data": {
      "text/html": [
       "<div>\n",
       "<style scoped>\n",
       "    .dataframe tbody tr th:only-of-type {\n",
       "        vertical-align: middle;\n",
       "    }\n",
       "\n",
       "    .dataframe tbody tr th {\n",
       "        vertical-align: top;\n",
       "    }\n",
       "\n",
       "    .dataframe thead th {\n",
       "        text-align: right;\n",
       "    }\n",
       "</style>\n",
       "<table border=\"1\" class=\"dataframe\">\n",
       "  <thead>\n",
       "    <tr style=\"text-align: right;\">\n",
       "      <th></th>\n",
       "      <th>Time</th>\n",
       "      <th>rTop</th>\n",
       "      <th>rRoot</th>\n",
       "      <th>vTop</th>\n",
       "      <th>vRoot</th>\n",
       "      <th>vBot</th>\n",
       "      <th>sum(rTop</th>\n",
       "      <th>)   sum(rRoot</th>\n",
       "      <th>)    sum(vTop</th>\n",
       "      <th>)   sum(vRoot</th>\n",
       "      <th>...</th>\n",
       "      <th>hRoot</th>\n",
       "      <th>hBot</th>\n",
       "      <th>RunOff</th>\n",
       "      <th>sum(RunOff</th>\n",
       "      <th>)     Volume</th>\n",
       "      <th>sum(Infil</th>\n",
       "      <th>)    sum(Evap</th>\n",
       "      <th>) TLevel Cum(</th>\n",
       "      <th>WTrans)  Snow</th>\n",
       "      <th>Layer</th>\n",
       "    </tr>\n",
       "    <tr>\n",
       "      <th>HYDRUS_datetime_vec</th>\n",
       "      <th></th>\n",
       "      <th></th>\n",
       "      <th></th>\n",
       "      <th></th>\n",
       "      <th></th>\n",
       "      <th></th>\n",
       "      <th></th>\n",
       "      <th></th>\n",
       "      <th></th>\n",
       "      <th></th>\n",
       "      <th></th>\n",
       "      <th></th>\n",
       "      <th></th>\n",
       "      <th></th>\n",
       "      <th></th>\n",
       "      <th></th>\n",
       "      <th></th>\n",
       "      <th></th>\n",
       "      <th></th>\n",
       "      <th></th>\n",
       "      <th></th>\n",
       "    </tr>\n",
       "  </thead>\n",
       "  <tbody>\n",
       "    <tr>\n",
       "      <th>2016-10-01 00:04:59.880</th>\n",
       "      <td>0.0833</td>\n",
       "      <td>0.0</td>\n",
       "      <td>0.0</td>\n",
       "      <td>0.0</td>\n",
       "      <td>0.0</td>\n",
       "      <td>0.0</td>\n",
       "      <td>0.0</td>\n",
       "      <td>0.0</td>\n",
       "      <td>0.0</td>\n",
       "      <td>0.0</td>\n",
       "      <td>...</td>\n",
       "      <td>-74.752</td>\n",
       "      <td>0.0</td>\n",
       "      <td>0.0</td>\n",
       "      <td>0.0</td>\n",
       "      <td>35.357</td>\n",
       "      <td>0.0</td>\n",
       "      <td>0.0</td>\n",
       "      <td>1  0.00</td>\n",
       "      <td>0.0</td>\n",
       "      <td>0.0</td>\n",
       "    </tr>\n",
       "    <tr>\n",
       "      <th>2016-10-01 00:10:00.120</th>\n",
       "      <td>0.1667</td>\n",
       "      <td>0.0</td>\n",
       "      <td>0.0</td>\n",
       "      <td>0.0</td>\n",
       "      <td>0.0</td>\n",
       "      <td>0.0</td>\n",
       "      <td>0.0</td>\n",
       "      <td>0.0</td>\n",
       "      <td>0.0</td>\n",
       "      <td>0.0</td>\n",
       "      <td>...</td>\n",
       "      <td>-74.752</td>\n",
       "      <td>0.0</td>\n",
       "      <td>0.0</td>\n",
       "      <td>0.0</td>\n",
       "      <td>35.357</td>\n",
       "      <td>0.0</td>\n",
       "      <td>0.0</td>\n",
       "      <td>2  0.00</td>\n",
       "      <td>0.0</td>\n",
       "      <td>0.0</td>\n",
       "    </tr>\n",
       "    <tr>\n",
       "      <th>2016-10-01 00:15:00.000</th>\n",
       "      <td>0.2500</td>\n",
       "      <td>0.0</td>\n",
       "      <td>0.0</td>\n",
       "      <td>0.0</td>\n",
       "      <td>0.0</td>\n",
       "      <td>0.0</td>\n",
       "      <td>0.0</td>\n",
       "      <td>0.0</td>\n",
       "      <td>0.0</td>\n",
       "      <td>0.0</td>\n",
       "      <td>...</td>\n",
       "      <td>-74.752</td>\n",
       "      <td>0.0</td>\n",
       "      <td>0.0</td>\n",
       "      <td>0.0</td>\n",
       "      <td>35.357</td>\n",
       "      <td>0.0</td>\n",
       "      <td>0.0</td>\n",
       "      <td>3  0.00</td>\n",
       "      <td>0.0</td>\n",
       "      <td>0.0</td>\n",
       "    </tr>\n",
       "    <tr>\n",
       "      <th>2016-10-01 00:19:59.880</th>\n",
       "      <td>0.3333</td>\n",
       "      <td>0.0</td>\n",
       "      <td>0.0</td>\n",
       "      <td>0.0</td>\n",
       "      <td>0.0</td>\n",
       "      <td>0.0</td>\n",
       "      <td>0.0</td>\n",
       "      <td>0.0</td>\n",
       "      <td>0.0</td>\n",
       "      <td>0.0</td>\n",
       "      <td>...</td>\n",
       "      <td>-74.752</td>\n",
       "      <td>0.0</td>\n",
       "      <td>0.0</td>\n",
       "      <td>0.0</td>\n",
       "      <td>35.357</td>\n",
       "      <td>0.0</td>\n",
       "      <td>0.0</td>\n",
       "      <td>4  0.00</td>\n",
       "      <td>0.0</td>\n",
       "      <td>0.0</td>\n",
       "    </tr>\n",
       "    <tr>\n",
       "      <th>2016-10-01 00:25:00.120</th>\n",
       "      <td>0.4167</td>\n",
       "      <td>0.0</td>\n",
       "      <td>0.0</td>\n",
       "      <td>0.0</td>\n",
       "      <td>0.0</td>\n",
       "      <td>0.0</td>\n",
       "      <td>0.0</td>\n",
       "      <td>0.0</td>\n",
       "      <td>0.0</td>\n",
       "      <td>0.0</td>\n",
       "      <td>...</td>\n",
       "      <td>-74.752</td>\n",
       "      <td>0.0</td>\n",
       "      <td>0.0</td>\n",
       "      <td>0.0</td>\n",
       "      <td>35.357</td>\n",
       "      <td>0.0</td>\n",
       "      <td>0.0</td>\n",
       "      <td>5  0.00</td>\n",
       "      <td>0.0</td>\n",
       "      <td>0.0</td>\n",
       "    </tr>\n",
       "  </tbody>\n",
       "</table>\n",
       "<p>5 rows × 22 columns</p>\n",
       "</div>"
      ],
      "text/plain": [
       "                           Time  rTop  rRoot  vTop  vRoot  vBot  sum(rTop  \\\n",
       "HYDRUS_datetime_vec                                                         \n",
       "2016-10-01 00:04:59.880  0.0833   0.0    0.0   0.0    0.0   0.0       0.0   \n",
       "2016-10-01 00:10:00.120  0.1667   0.0    0.0   0.0    0.0   0.0       0.0   \n",
       "2016-10-01 00:15:00.000  0.2500   0.0    0.0   0.0    0.0   0.0       0.0   \n",
       "2016-10-01 00:19:59.880  0.3333   0.0    0.0   0.0    0.0   0.0       0.0   \n",
       "2016-10-01 00:25:00.120  0.4167   0.0    0.0   0.0    0.0   0.0       0.0   \n",
       "\n",
       "                         )   sum(rRoot  )    sum(vTop  )   sum(vRoot  ...  \\\n",
       "HYDRUS_datetime_vec                                                   ...   \n",
       "2016-10-01 00:04:59.880            0.0            0.0            0.0  ...   \n",
       "2016-10-01 00:10:00.120            0.0            0.0            0.0  ...   \n",
       "2016-10-01 00:15:00.000            0.0            0.0            0.0  ...   \n",
       "2016-10-01 00:19:59.880            0.0            0.0            0.0  ...   \n",
       "2016-10-01 00:25:00.120            0.0            0.0            0.0  ...   \n",
       "\n",
       "                          hRoot  hBot  RunOff  sum(RunOff  )     Volume  \\\n",
       "HYDRUS_datetime_vec                                                       \n",
       "2016-10-01 00:04:59.880 -74.752   0.0     0.0         0.0        35.357   \n",
       "2016-10-01 00:10:00.120 -74.752   0.0     0.0         0.0        35.357   \n",
       "2016-10-01 00:15:00.000 -74.752   0.0     0.0         0.0        35.357   \n",
       "2016-10-01 00:19:59.880 -74.752   0.0     0.0         0.0        35.357   \n",
       "2016-10-01 00:25:00.120 -74.752   0.0     0.0         0.0        35.357   \n",
       "\n",
       "                         sum(Infil  )    sum(Evap  ) TLevel Cum(  \\\n",
       "HYDRUS_datetime_vec                                                \n",
       "2016-10-01 00:04:59.880        0.0            0.0        1  0.00   \n",
       "2016-10-01 00:10:00.120        0.0            0.0        2  0.00   \n",
       "2016-10-01 00:15:00.000        0.0            0.0        3  0.00   \n",
       "2016-10-01 00:19:59.880        0.0            0.0        4  0.00   \n",
       "2016-10-01 00:25:00.120        0.0            0.0        5  0.00   \n",
       "\n",
       "                         WTrans)  Snow Layer  \n",
       "HYDRUS_datetime_vec                           \n",
       "2016-10-01 00:04:59.880            0.0   0.0  \n",
       "2016-10-01 00:10:00.120            0.0   0.0  \n",
       "2016-10-01 00:15:00.000            0.0   0.0  \n",
       "2016-10-01 00:19:59.880            0.0   0.0  \n",
       "2016-10-01 00:25:00.120            0.0   0.0  \n",
       "\n",
       "[5 rows x 22 columns]"
      ]
     },
     "execution_count": 346,
     "metadata": {},
     "output_type": "execute_result"
    }
   ],
   "source": [
    "\n",
    "\n",
    "HYDRUS_output.head()"
   ]
  },
  {
   "cell_type": "code",
   "execution_count": null,
   "id": "8399e4ce",
   "metadata": {},
   "outputs": [],
   "source": []
  },
  {
   "cell_type": "code",
   "execution_count": null,
   "id": "c698afc1",
   "metadata": {},
   "outputs": [],
   "source": []
  },
  {
   "cell_type": "code",
   "execution_count": 347,
   "id": "6db43eeb",
   "metadata": {},
   "outputs": [
    {
     "name": "stdout",
     "output_type": "stream",
     "text": [
      "0      0.000000e+00\n",
      "1     -3.868000e-10\n",
      "2     -7.475000e-10\n",
      "3     -1.084400e-09\n",
      "4     -1.399600e-09\n",
      "           ...     \n",
      "859    2.765140e-01\n",
      "860    2.769797e-01\n",
      "861    2.774454e-01\n",
      "862    2.779109e-01\n",
      "863    2.783764e-01\n",
      "Name: percolation, Length: 864, dtype: float64\n"
     ]
    },
    {
     "data": {
      "image/png": "[encoded data removed]",
      "text/plain": [
       "<Figure size 720x576 with 6 Axes>"
      ]
     },
     "metadata": {},
     "output_type": "display_data"
    }
   ],
   "source": [
    "# end_step = 300\n",
    "# times_bmi = times_bmi[0:end_step]\n",
    "# data_c_vars = data_c_vars [0:end_step]\n",
    "# vars_hydrus = data_c_vars [0:end_step]\n",
    "# HYDRUS_output = HYDRUS_output[0:end_step]\n",
    "\n",
    "\n",
    "\n",
    "\n",
    "\n",
    "#%matplotlib qt\n",
    "fig, axs = plt.subplots(3,2, figsize=(10,8), facecolor='w', edgecolor='k',gridspec_kw={'width_ratios':[1,1]})\n",
    "fig.subplots_adjust(hspace =.02, wspace=1.02)\n",
    "plt.tight_layout()\n",
    "axs = axs.ravel()\n",
    "\n",
    "vars_bmi = ['soil_storage', 'surface_runoff', 'infiltration', 'actual_evapotranspiration', 'mass_balance', 'percolation']\n",
    "vars_hydrus = [')     Volume', 'sum(RunOff', 'sum(Infil', ')   sum(vRoot', ')    sum(vBot']\n",
    "m_to_mm = 1000\n",
    "m_to_cm = 100\n",
    "timestep = 300/3600\n",
    "y_labels = ['Storage (cm)', 'Runoff (cm)', 'Infiltration (cm)', 'Actual ET (cm)', 'Mass balance (cm)', 'Recharge (cm)']\n",
    "\n",
    "for i in range(len(y_labels)):\n",
    "    if i == 0:\n",
    "        if i == 0:\n",
    "            axs[i].plot(times_bmi, data_c_vars[vars_bmi[i]]*m_to_cm,'b',linestyle='dashed',label='C (bmi)')\n",
    "            axs[i].plot(HYDRUS_output[vars_hydrus[i]],'k',linestyle='dashed',label='Hydrus',color='orange')\n",
    "        else:\n",
    "            hyd = []\n",
    "            for t,v1 in zip(HYDRUS_output['Time'], HYDRUS_output[vars_hydrus[0]]):\n",
    "                if t % 5.0 == 0:\n",
    "                    hyd.append(v1)\n",
    "            hyd_c_diff = []\n",
    "\n",
    "            for v2, v3 in zip(np.array(hyd),np.array(data_c_vars[vars_bmi[0]]*m_to_cm)[1:]):\n",
    "                hyd_c_diff.append(abs(v2-v3))\n",
    "\n",
    "            axs[i].legend()\n",
    "        \n",
    "    elif (i < len(vars_hydrus)-1):\n",
    "        if i == 1 or i == 2 or i ==3 : \n",
    "            \n",
    "            axs[i].plot(times_bmi, np.cumsum(data_c_vars[vars_bmi[i]]*m_to_cm),'blue',linestyle='dotted',label='C (bmi)')  \n",
    "            axs[i].plot(HYDRUS_output[vars_hydrus[i]],'k',linestyle='dashed',label='Hydrus',color='orange')\n",
    "        if i==4:\n",
    "            axs[i].plot(times_bmi, np.cumsum(data_c_vars[vars_bmi[i]]*m_to_cm),'blue',linestyle='dotted',label='C (bmi)')\n",
    "            axs[4].axis(ymin=-1,ymax=1)\n",
    "    elif (i==4):\n",
    "        axs[i].plot(times_bmi, np.cumsum(data_c_vars[vars_bmi[i]]*m_to_cm),'blue',linestyle='dotted',label='C (bmi)')\n",
    "        axs[5].plot(-1*HYDRUS_output[vars_hydrus[i]],'k',linestyle='dashed',label='Hydrus',color='orange')\n",
    "        print(np.cumsum(data_c_vars[vars_bmi[5]]*m_to_cm))\n",
    "    else:\n",
    "        axs[i].plot(times_bmi, np.cumsum(data_c_vars[vars_bmi[i]]*m_to_cm),'b',linestyle='dotted',label='C (bmi)')\n",
    "\n",
    "            \n",
    "    axs[i].set_ylabel(y_labels[i],fontsize=12)\n",
    "    \n",
    "    if i >2:\n",
    "        axs[i].set_xlabel('Time [m/d/h]',fontsize=12)\n",
    "    axs[i].tick_params(axis='x', labelsize=12,rotation=0)\n",
    "    axs[i].tick_params(axis='y', labelsize=12,rotation=0)\n",
    "    axs[i].xaxis.set_major_formatter(xfmt)\n",
    "    axs[i].xaxis.set_major_locator(mdates.MonthLocator(interval=4))\n",
    "    \n",
    "    axs[i].set_xlim(times_bmi[0], times_bmi[-1])\n",
    "axs[0].legend()\n",
    "plt.tight_layout()\n",
    "\n",
    "if (save_outfile):\n",
    "    plt.savefig(outfile,dpi=400)\n"
   ]
  },
  {
   "cell_type": "code",
   "execution_count": null,
   "id": "da54f973",
   "metadata": {},
   "outputs": [],
   "source": []
  },
  {
   "cell_type": "code",
   "execution_count": 348,
   "id": "a2c53bdb",
   "metadata": {},
   "outputs": [
    {
     "data": {
      "image/png": "[encoded data removed]",
      "text/plain": [
       "<Figure size 432x288 with 1 Axes>"
      ]
     },
     "metadata": {},
     "output_type": "display_data"
    }
   ],
   "source": [
    "import matplotlib as mpl\n",
    "import matplotlib.pyplot as plt\n",
    "import numpy as np\n",
    "\n",
    "mpl.rcParams['figure.facecolor'] = 'white'\n",
    "\n",
    "fig, ax = plt.subplots()\n",
    "\n",
    "ax.plot(times_bmi, np.cumsum(data_c_vars[vars_bmi[1]] * m_to_cm), label='C (bmi)', color='orange')\n",
    "ax.plot(HYDRUS_output[vars_hydrus[1]], linestyle='dashed', label='Hydrus', color='orange')\n",
    "\n",
    "ax.plot(times_bmi, np.cumsum(data_c_vars[vars_bmi[2]] * m_to_cm), label='C (bmi)', color='blue')\n",
    "ax.plot(HYDRUS_output[vars_hydrus[2]], linestyle='dashed', label='Hydrus', color='blue')\n",
    "\n",
    "ax.plot(times_bmi, np.cumsum(data_c_vars[vars_bmi[3]] * m_to_cm), label='C (bmi)', color='green')\n",
    "ax.plot(HYDRUS_output[vars_hydrus[3]], linestyle='dashed', label='Hydrus', color='green')\n",
    "\n",
    "ax.plot(times_bmi, np.cumsum(data_c_vars[vars_bmi[5]] * m_to_cm), label='C (bmi)', color='purple')\n",
    "ax.plot(-1 * HYDRUS_output[vars_hydrus[4]], linestyle='dashed', label='Hydrus', color='purple')\n",
    "\n",
    "llabels = [\n",
    "    'LGARTO runoff', 'HYDRUS runoff', 'LGARTO infiltration', 'HYDRUS infiltration',\n",
    "    'LGARTO AET', 'HYDRUS AET', 'LGARTO recharge', 'HYDRUS recharge'\n",
    "]\n",
    "\n",
    "#legend below the plot\n",
    "ax.legend(labels=llabels, bbox_to_anchor=(0.5, -0.2), loc='upper center', ncol=2)\n",
    "\n",
    "# plt.ylim(0,1.5)\n",
    "\n",
    "ax.set_ylabel(\"cumulative flux (cm)\", fontsize=16)\n",
    "ax.set_xlabel(\"date\", fontsize=16)\n",
    "\n",
    "# plt.vlines(times_bmi[128], 0, 12, colors =\"red\")\n",
    "# plt.xlim(times_bmi[100],times_bmi[150])\n",
    "\n",
    "fig.tight_layout(rect=[0, 0.05, 1, 1.03])\n",
    "\n",
    "if (save_outfile):\n",
    "    plt.savefig(outfile_summpary_plot, dpi=400, bbox_inches='tight')\n",
    "\n",
    "plt.show()"
   ]
  },
  {
   "cell_type": "code",
   "execution_count": null,
   "id": "e593e93c",
   "metadata": {},
   "outputs": [],
   "source": []
  },
  {
   "cell_type": "code",
   "execution_count": 349,
   "id": "edcce408",
   "metadata": {},
   "outputs": [
    {
     "data": {
      "text/plain": [
       "0      0.0\n",
       "1      0.0\n",
       "2      0.0\n",
       "3      0.0\n",
       "4      0.0\n",
       "      ... \n",
       "859    0.0\n",
       "860    0.0\n",
       "861    0.0\n",
       "862    0.0\n",
       "863    0.0\n",
       "Name: surface_runoff, Length: 864, dtype: float64"
      ]
     },
     "execution_count": 349,
     "metadata": {},
     "output_type": "execute_result"
    }
   ],
   "source": [
    "runoff_LGARTO"
   ]
  },
  {
   "cell_type": "code",
   "execution_count": null,
   "id": "aa7a7746",
   "metadata": {},
   "outputs": [],
   "source": []
  },
  {
   "cell_type": "code",
   "execution_count": 350,
   "id": "701007dd",
   "metadata": {},
   "outputs": [
    {
     "name": "stdout",
     "output_type": "stream",
     "text": [
      "KGE in runoff: \n",
      "0.9498582167576509\n",
      "NSE in runoff: \n",
      "0.9716084153728947\n",
      "percent bias in runoff: \n",
      "3.677606039567269\n",
      "RMSE in runoff (cm/h): \n",
      "0.004098721766114706\n",
      "cumulative runoff for LGARTO (cm): \n",
      "6.0723563600535995\n",
      "cumulative runoff for HYDRUS (cm): \n",
      "6.3042\n",
      "difference (cm): \n",
      "0.23184363994640034\n"
     ]
    }
   ],
   "source": [
    "runoff_LGARTO = data_c_vars[vars_bmi[1]]*m_to_cm\n",
    "\n",
    "# runoff_HYDRUS = HYDRUS_output['RunOff']\n",
    "\n",
    "runoff_HYDRUS = [0.0]\n",
    "for i in range(1,len(HYDRUS_output)):\n",
    "#     if i!=1:\n",
    "    runoff_HYDRUS.append(HYDRUS_output['sum(RunOff'][i] - HYDRUS_output['sum(RunOff'][i-1])\n",
    "\n",
    "print(\"KGE in runoff: \")\n",
    "print(hydroeval.kge(np.array(runoff_LGARTO), np.array(runoff_HYDRUS))[0][0])\n",
    "\n",
    "print(\"NSE in runoff: \")\n",
    "print(hydroeval.nse(np.array(runoff_LGARTO), np.array(runoff_HYDRUS)))\n",
    "\n",
    "print(\"percent bias in runoff: \")\n",
    "print(hydroeval.pbias(np.array(runoff_LGARTO), np.array(runoff_HYDRUS)))\n",
    "\n",
    "print(\"RMSE in runoff (cm/h): \")\n",
    "print(hydroeval.rmse(np.array(runoff_LGARTO), np.array(runoff_HYDRUS)))\n",
    "\n",
    "print(\"cumulative runoff for LGARTO (cm): \")\n",
    "print(np.sum(runoff_LGARTO))\n",
    "\n",
    "print(\"cumulative runoff for HYDRUS (cm): \")\n",
    "print(np.sum(runoff_HYDRUS))\n",
    "\n",
    "print(\"difference (cm): \")\n",
    "print(np.sum(runoff_HYDRUS) - np.sum(runoff_LGARTO))"
   ]
  },
  {
   "cell_type": "code",
   "execution_count": 351,
   "id": "e22ab5b1",
   "metadata": {},
   "outputs": [
    {
     "data": {
      "text/plain": [
       "True"
      ]
     },
     "execution_count": 351,
     "metadata": {},
     "output_type": "execute_result"
    }
   ],
   "source": [
    "abs(np.sum(runoff_HYDRUS) - HYDRUS_output['sum(RunOff'][-1]) < 0.01"
   ]
  },
  {
   "cell_type": "code",
   "execution_count": null,
   "id": "482a0034",
   "metadata": {},
   "outputs": [],
   "source": []
  },
  {
   "cell_type": "code",
   "execution_count": null,
   "id": "c086ebce",
   "metadata": {},
   "outputs": [],
   "source": []
  },
  {
   "cell_type": "code",
   "execution_count": 352,
   "id": "29b78709",
   "metadata": {},
   "outputs": [
    {
     "name": "stdout",
     "output_type": "stream",
     "text": [
      "KGE in infiltration: \n",
      "0.894849261201615\n",
      "NSE in infiltration: \n",
      "0.9129369615243178\n",
      "percent bias in infiltration: \n",
      "-6.255914942825446\n",
      "RMSE in infiltration (cm/h): \n",
      "0.004097073198332013\n",
      "cumulative infiltration for LGARTO (cm): \n",
      "3.9276436399466\n",
      "cumulative infiltration for HYDRUS (cm): \n",
      "3.6964000000000006\n",
      "difference (cm): \n",
      "-0.23124363994659936\n"
     ]
    }
   ],
   "source": [
    "infil_LGARTO = data_c_vars[vars_bmi[2]]*m_to_cm\n",
    "infil_HYDRUS = HYDRUS_output['sum(Infil']#[1:]\n",
    "\n",
    "infil_HYDRUS = np.array(infil_HYDRUS)\n",
    "infil_HYDRUS_cumulative = HYDRUS_output['sum(Infil']#[1:]\n",
    "\n",
    "i=0\n",
    "for item in infil_HYDRUS:\n",
    "#     print(item)\n",
    "    if (i==0):\n",
    "        item = item\n",
    "    else:\n",
    "        item = item - infil_HYDRUS_cumulative[i-1]\n",
    "    infil_HYDRUS[i] = item\n",
    "    i = i + 1\n",
    "    \n",
    "        \n",
    "print(\"KGE in infiltration: \")\n",
    "print(hydroeval.kge(np.array(infil_LGARTO), np.array(infil_HYDRUS))[0][0])\n",
    "\n",
    "print(\"NSE in infiltration: \")\n",
    "print(hydroeval.nse(np.array(infil_LGARTO), np.array(infil_HYDRUS)))\n",
    "\n",
    "print(\"percent bias in infiltration: \")\n",
    "print(hydroeval.pbias(np.array(infil_LGARTO), np.array(infil_HYDRUS)))\n",
    "\n",
    "print(\"RMSE in infiltration (cm/h): \")\n",
    "print(hydroeval.rmse(np.array(infil_LGARTO), np.array(infil_HYDRUS)))\n",
    "\n",
    "print(\"cumulative infiltration for LGARTO (cm): \")\n",
    "print(np.sum(infil_LGARTO))\n",
    "\n",
    "print(\"cumulative infiltration for HYDRUS (cm): \")\n",
    "print(np.sum(infil_HYDRUS))\n",
    "\n",
    "print(\"difference (cm): \")\n",
    "print(np.sum(infil_HYDRUS) - np.sum(infil_LGARTO))"
   ]
  },
  {
   "cell_type": "code",
   "execution_count": 353,
   "id": "a260b3ed",
   "metadata": {},
   "outputs": [
    {
     "data": {
      "text/plain": [
       "True"
      ]
     },
     "execution_count": 353,
     "metadata": {},
     "output_type": "execute_result"
    }
   ],
   "source": [
    "abs(np.sum(infil_HYDRUS) - HYDRUS_output['sum(Infil'][-1]) < 0.01"
   ]
  },
  {
   "cell_type": "code",
   "execution_count": null,
   "id": "a5ab1dd5",
   "metadata": {},
   "outputs": [],
   "source": []
  },
  {
   "cell_type": "code",
   "execution_count": 354,
   "id": "95014cab",
   "metadata": {},
   "outputs": [
    {
     "name": "stdout",
     "output_type": "stream",
     "text": [
      "KGE in AET: \n",
      "0.9986121865774797\n",
      "NSE in AET: \n",
      "0.9999838688211131\n",
      "percent bias in AET: \n",
      "0.10558604815299515\n",
      "RMSE in AET (cm/h): \n",
      "4.4477457030494516e-06\n",
      "cumulative AET for LGARTO (cm): \n",
      "0.7866585204294001\n",
      "cumulative AET for HYDRUS (cm): \n",
      "0.78749\n",
      "difference (cm): \n",
      "0.0008314795705999245\n"
     ]
    }
   ],
   "source": [
    "#0 AET will yield a KGE and NSE of nan\n",
    "\n",
    "AET_LGARTO = data_c_vars[vars_bmi[3]]*m_to_cm\n",
    "# AET_HYDRUS = HYDRUS_output['vRoot']\n",
    "\n",
    "AET_HYDRUS = [0.0]\n",
    "for i in range(1,len(HYDRUS_output)):\n",
    "#     if i!=1:\n",
    "    AET_HYDRUS.append(HYDRUS_output[')   sum(vRoot'][i] - HYDRUS_output[')   sum(vRoot'][i-1])\n",
    "\n",
    "print(\"KGE in AET: \")\n",
    "print(hydroeval.kge(np.array(AET_LGARTO), np.array(AET_HYDRUS))[0][0])\n",
    "\n",
    "print(\"NSE in AET: \")\n",
    "print(hydroeval.nse(np.array(AET_LGARTO), np.array(AET_HYDRUS)))\n",
    "\n",
    "print(\"percent bias in AET: \")\n",
    "print(hydroeval.pbias(np.array(AET_LGARTO), np.array(AET_HYDRUS)))\n",
    "\n",
    "print(\"RMSE in AET (cm/h): \")\n",
    "print(hydroeval.rmse(np.array(AET_LGARTO), np.array(AET_HYDRUS)))\n",
    "\n",
    "print(\"cumulative AET for LGARTO (cm): \")\n",
    "print(np.sum(AET_LGARTO))\n",
    "\n",
    "print(\"cumulative AET for HYDRUS (cm): \")\n",
    "print(np.sum(AET_HYDRUS))\n",
    "\n",
    "print(\"difference (cm): \")\n",
    "print(np.sum(AET_HYDRUS) - np.sum(AET_LGARTO))"
   ]
  },
  {
   "cell_type": "code",
   "execution_count": null,
   "id": "47bda3d8",
   "metadata": {},
   "outputs": [],
   "source": []
  },
  {
   "cell_type": "code",
   "execution_count": 355,
   "id": "94abbb34",
   "metadata": {},
   "outputs": [
    {
     "data": {
      "text/plain": [
       "True"
      ]
     },
     "execution_count": 355,
     "metadata": {},
     "output_type": "execute_result"
    }
   ],
   "source": [
    "abs(np.sum(AET_HYDRUS) - HYDRUS_output[')   sum(vRoot'][-1]) < 0.01"
   ]
  },
  {
   "cell_type": "code",
   "execution_count": null,
   "id": "90b054da",
   "metadata": {},
   "outputs": [],
   "source": []
  },
  {
   "cell_type": "code",
   "execution_count": 356,
   "id": "75f06b9f",
   "metadata": {},
   "outputs": [
    {
     "name": "stdout",
     "output_type": "stream",
     "text": [
      "KGE in recharge: \n",
      "0.4230259198885977\n",
      "NSE in recharge: \n",
      "0.43558515990631363\n",
      "percent bias in recharge: \n",
      "17.63525545976093\n",
      "RMSE in recharge (cm/h): \n",
      "0.0003495825380857413\n",
      "cumulative recharge for LGARTO (cm): \n",
      "0.2783763635971\n",
      "cumulative recharge for HYDRUS (cm): \n",
      "0.33798\n",
      "difference (cm): \n",
      "0.059603636402900007\n"
     ]
    }
   ],
   "source": [
    "rch_LGARTO = data_c_vars[vars_bmi[5]]*m_to_cm\n",
    "# rch_HYDRUS = -1*HYDRUS_output['vBot']\n",
    "\n",
    "rch_HYDRUS = [0.0]\n",
    "for i in range(1,len(HYDRUS_output)):\n",
    "#     if i!=1:\n",
    "    rch_HYDRUS.append(-1*(HYDRUS_output[')    sum(vBot'][i] - HYDRUS_output[')    sum(vBot'][i-1]))\n",
    "\n",
    "print(\"KGE in recharge: \")\n",
    "print(hydroeval.kge(np.array(rch_LGARTO), np.array(rch_HYDRUS))[0][0])\n",
    "\n",
    "print(\"NSE in recharge: \")\n",
    "print(hydroeval.nse(np.array(rch_LGARTO), np.array(rch_HYDRUS)))\n",
    "\n",
    "print(\"percent bias in recharge: \")\n",
    "print(hydroeval.pbias(np.array(rch_LGARTO), np.array(rch_HYDRUS)))\n",
    "\n",
    "print(\"RMSE in recharge (cm/h): \")\n",
    "print(hydroeval.rmse(np.array(rch_LGARTO), np.array(rch_HYDRUS)))\n",
    "\n",
    "print(\"cumulative recharge for LGARTO (cm): \")\n",
    "print(np.sum(rch_LGARTO))\n",
    "\n",
    "print(\"cumulative recharge for HYDRUS (cm): \")\n",
    "print(np.sum(rch_HYDRUS))\n",
    "\n",
    "print(\"difference (cm): \")\n",
    "print(np.sum(rch_HYDRUS) - np.sum(rch_LGARTO))\n"
   ]
  },
  {
   "cell_type": "code",
   "execution_count": 357,
   "id": "0fd4524f",
   "metadata": {},
   "outputs": [
    {
     "data": {
      "text/plain": [
       "[<matplotlib.lines.Line2D at 0x7fe506eb48b0>]"
      ]
     },
     "execution_count": 357,
     "metadata": {},
     "output_type": "execute_result"
    },
    {
     "data": {
      "image/png": "[encoded data removed]",
      "text/plain": [
       "<Figure size 432x288 with 1 Axes>"
      ]
     },
     "metadata": {},
     "output_type": "display_data"
    }
   ],
   "source": [
    "plt.plot(rch_LGARTO)\n",
    "plt.plot(rch_HYDRUS)"
   ]
  },
  {
   "cell_type": "code",
   "execution_count": null,
   "id": "47349c07",
   "metadata": {},
   "outputs": [],
   "source": []
  },
  {
   "cell_type": "code",
   "execution_count": 358,
   "id": "2e1ba92d",
   "metadata": {},
   "outputs": [
    {
     "data": {
      "text/plain": [
       "True"
      ]
     },
     "execution_count": 358,
     "metadata": {},
     "output_type": "execute_result"
    }
   ],
   "source": [
    "abs(np.sum(rch_HYDRUS) - -1*HYDRUS_output[')    sum(vBot'][-1]) < 0.001"
   ]
  },
  {
   "cell_type": "code",
   "execution_count": 359,
   "id": "fb558566",
   "metadata": {},
   "outputs": [
    {
     "name": "stdout",
     "output_type": "stream",
     "text": [
      "KGE in cumulative recharge: \n",
      "0.6653050006516376\n",
      "NSE in cumulative recharge: \n",
      "0.8374549981150892\n",
      "percent bias in cumulative recharge: \n",
      "-32.07053445972832\n",
      "RMSE in cumulative recharge (cm): \n",
      "0.04074046982552966\n"
     ]
    }
   ],
   "source": [
    "rch_HYDRUS=np.array(rch_HYDRUS)\n",
    "rch_LGARTO=np.array(rch_LGARTO)\n",
    "\n",
    "rch_HYDRUS_ind=np.array(rch_HYDRUS)\n",
    "rch_LGARTO_ind=np.array(rch_LGARTO)\n",
    "\n",
    "i = 0\n",
    "for _ in rch_HYDRUS:\n",
    "    if i>0:\n",
    "        rch_HYDRUS[i] = np.sum(rch_HYDRUS_ind[0:i])\n",
    "        rch_LGARTO[i] = np.sum(rch_LGARTO_ind[0:i])\n",
    "    i=i+1\n",
    "\n",
    "# plt.plot(rch_LGARTO)\n",
    "# plt.plot(rch_HYDRUS)\n",
    "\n",
    "print(\"KGE in cumulative recharge: \")\n",
    "print(hydroeval.kge(np.array(rch_LGARTO), np.array(rch_HYDRUS))[0][0])\n",
    "\n",
    "print(\"NSE in cumulative recharge: \")\n",
    "print(hydroeval.nse(np.array(rch_LGARTO), np.array(rch_HYDRUS)))\n",
    "\n",
    "print(\"percent bias in cumulative recharge: \")\n",
    "print(hydroeval.pbias(np.array(rch_LGARTO), np.array(rch_HYDRUS)))\n",
    "\n",
    "print(\"RMSE in cumulative recharge (cm): \")\n",
    "print(hydroeval.rmse(np.array(rch_LGARTO), np.array(rch_HYDRUS)))"
   ]
  },
  {
   "cell_type": "code",
   "execution_count": null,
   "id": "b6dfeb8c",
   "metadata": {},
   "outputs": [],
   "source": []
  },
  {
   "cell_type": "code",
   "execution_count": null,
   "id": "fbe6abf5",
   "metadata": {},
   "outputs": [],
   "source": []
  },
  {
   "cell_type": "code",
   "execution_count": null,
   "id": "9bfaf473",
   "metadata": {},
   "outputs": [],
   "source": []
  },
  {
   "cell_type": "code",
   "execution_count": null,
   "id": "98c5f1fd",
   "metadata": {},
   "outputs": [],
   "source": []
  },
  {
   "cell_type": "code",
   "execution_count": null,
   "id": "d859621a",
   "metadata": {},
   "outputs": [],
   "source": []
  },
  {
   "cell_type": "code",
   "execution_count": null,
   "id": "70feb940",
   "metadata": {},
   "outputs": [],
   "source": []
  },
  {
   "cell_type": "code",
   "execution_count": null,
   "id": "ae1a9991",
   "metadata": {},
   "outputs": [],
   "source": []
  },
  {
   "cell_type": "code",
   "execution_count": null,
   "id": "ae0299a9",
   "metadata": {},
   "outputs": [],
   "source": []
  }
 ],
 "metadata": {
  "kernelspec": {
   "display_name": "Python 3",
   "language": "python",
   "name": "python3"
  },
  "language_info": {
   "codemirror_mode": {
    "name": "ipython",
    "version": 3
   },
   "file_extension": ".py",
   "mimetype": "text/x-python",
   "name": "python",
   "nbconvert_exporter": "python",
   "pygments_lexer": "ipython3",
   "version": "3.8.8"
  }
 },
 "nbformat": 4,
 "nbformat_minor": 5
}
